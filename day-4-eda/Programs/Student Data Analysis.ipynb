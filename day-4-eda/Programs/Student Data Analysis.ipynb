{
 "cells": [
  {
   "cell_type": "code",
   "execution_count": 1,
   "id": "b771d6f3-2084-4435-9e1b-43bc06a4806f",
   "metadata": {},
   "outputs": [
    {
     "name": "stdout",
     "output_type": "stream",
     "text": [
      "   STUDENT_ID              Name  Math  Science  English  Total           Grade\n",
      "0           1  Hertha Georgescu    65       21        9    113     Grass-roots\n",
      "1           2     Port Ferronet    25       15       71     36      methodical\n",
      "2           3      Tony Beadell    46       12       27    203    installation\n",
      "3           4        Erica Cote     2       75       87    272        tangible\n",
      "4           5  Lilllie Dryburgh    79        3       47    251  fault-tolerant\n"
     ]
    }
   ],
   "source": [
    "import pandas as pd #import pandas\n",
    "#create student dataframe by reading csv file\n",
    "df= pd.read_csv('marks_data.csv')\n",
    "print(df.head()) # check first 5 rows"
   ]
  },
  {
   "cell_type": "code",
   "execution_count": 2,
   "id": "8fa2b223-980c-4bc8-b3fc-b449f217b460",
   "metadata": {},
   "outputs": [
    {
     "data": {
      "text/html": [
       "<div>\n",
       "<style scoped>\n",
       "    .dataframe tbody tr th:only-of-type {\n",
       "        vertical-align: middle;\n",
       "    }\n",
       "\n",
       "    .dataframe tbody tr th {\n",
       "        vertical-align: top;\n",
       "    }\n",
       "\n",
       "    .dataframe thead th {\n",
       "        text-align: right;\n",
       "    }\n",
       "</style>\n",
       "<table border=\"1\" class=\"dataframe\">\n",
       "  <thead>\n",
       "    <tr style=\"text-align: right;\">\n",
       "      <th></th>\n",
       "      <th>STUDENT_ID</th>\n",
       "      <th>Name</th>\n",
       "      <th>Math</th>\n",
       "      <th>Science</th>\n",
       "      <th>English</th>\n",
       "      <th>Total</th>\n",
       "      <th>Grade</th>\n",
       "    </tr>\n",
       "  </thead>\n",
       "  <tbody>\n",
       "    <tr>\n",
       "      <th>0</th>\n",
       "      <td>False</td>\n",
       "      <td>False</td>\n",
       "      <td>False</td>\n",
       "      <td>False</td>\n",
       "      <td>False</td>\n",
       "      <td>False</td>\n",
       "      <td>False</td>\n",
       "    </tr>\n",
       "    <tr>\n",
       "      <th>1</th>\n",
       "      <td>False</td>\n",
       "      <td>False</td>\n",
       "      <td>False</td>\n",
       "      <td>False</td>\n",
       "      <td>False</td>\n",
       "      <td>False</td>\n",
       "      <td>False</td>\n",
       "    </tr>\n",
       "    <tr>\n",
       "      <th>2</th>\n",
       "      <td>False</td>\n",
       "      <td>False</td>\n",
       "      <td>False</td>\n",
       "      <td>False</td>\n",
       "      <td>False</td>\n",
       "      <td>False</td>\n",
       "      <td>False</td>\n",
       "    </tr>\n",
       "    <tr>\n",
       "      <th>3</th>\n",
       "      <td>False</td>\n",
       "      <td>False</td>\n",
       "      <td>False</td>\n",
       "      <td>False</td>\n",
       "      <td>False</td>\n",
       "      <td>False</td>\n",
       "      <td>False</td>\n",
       "    </tr>\n",
       "    <tr>\n",
       "      <th>4</th>\n",
       "      <td>False</td>\n",
       "      <td>False</td>\n",
       "      <td>False</td>\n",
       "      <td>False</td>\n",
       "      <td>False</td>\n",
       "      <td>False</td>\n",
       "      <td>False</td>\n",
       "    </tr>\n",
       "    <tr>\n",
       "      <th>...</th>\n",
       "      <td>...</td>\n",
       "      <td>...</td>\n",
       "      <td>...</td>\n",
       "      <td>...</td>\n",
       "      <td>...</td>\n",
       "      <td>...</td>\n",
       "      <td>...</td>\n",
       "    </tr>\n",
       "    <tr>\n",
       "      <th>95</th>\n",
       "      <td>False</td>\n",
       "      <td>False</td>\n",
       "      <td>False</td>\n",
       "      <td>False</td>\n",
       "      <td>False</td>\n",
       "      <td>False</td>\n",
       "      <td>False</td>\n",
       "    </tr>\n",
       "    <tr>\n",
       "      <th>96</th>\n",
       "      <td>False</td>\n",
       "      <td>False</td>\n",
       "      <td>False</td>\n",
       "      <td>False</td>\n",
       "      <td>False</td>\n",
       "      <td>False</td>\n",
       "      <td>False</td>\n",
       "    </tr>\n",
       "    <tr>\n",
       "      <th>97</th>\n",
       "      <td>False</td>\n",
       "      <td>False</td>\n",
       "      <td>False</td>\n",
       "      <td>False</td>\n",
       "      <td>False</td>\n",
       "      <td>False</td>\n",
       "      <td>False</td>\n",
       "    </tr>\n",
       "    <tr>\n",
       "      <th>98</th>\n",
       "      <td>False</td>\n",
       "      <td>False</td>\n",
       "      <td>False</td>\n",
       "      <td>False</td>\n",
       "      <td>False</td>\n",
       "      <td>False</td>\n",
       "      <td>False</td>\n",
       "    </tr>\n",
       "    <tr>\n",
       "      <th>99</th>\n",
       "      <td>False</td>\n",
       "      <td>False</td>\n",
       "      <td>False</td>\n",
       "      <td>False</td>\n",
       "      <td>False</td>\n",
       "      <td>False</td>\n",
       "      <td>False</td>\n",
       "    </tr>\n",
       "  </tbody>\n",
       "</table>\n",
       "<p>100 rows × 7 columns</p>\n",
       "</div>"
      ],
      "text/plain": [
       "    STUDENT_ID   Name   Math  Science  English  Total  Grade\n",
       "0        False  False  False    False    False  False  False\n",
       "1        False  False  False    False    False  False  False\n",
       "2        False  False  False    False    False  False  False\n",
       "3        False  False  False    False    False  False  False\n",
       "4        False  False  False    False    False  False  False\n",
       "..         ...    ...    ...      ...      ...    ...    ...\n",
       "95       False  False  False    False    False  False  False\n",
       "96       False  False  False    False    False  False  False\n",
       "97       False  False  False    False    False  False  False\n",
       "98       False  False  False    False    False  False  False\n",
       "99       False  False  False    False    False  False  False\n",
       "\n",
       "[100 rows x 7 columns]"
      ]
     },
     "execution_count": 2,
     "metadata": {},
     "output_type": "execute_result"
    }
   ],
   "source": [
    "df.isna() # check na values "
   ]
  },
  {
   "cell_type": "code",
   "execution_count": 6,
   "id": "3af68f2e-5c31-4e02-8291-cabb613d3b29",
   "metadata": {},
   "outputs": [
    {
     "data": {
      "text/html": [
       "<div>\n",
       "<style scoped>\n",
       "    .dataframe tbody tr th:only-of-type {\n",
       "        vertical-align: middle;\n",
       "    }\n",
       "\n",
       "    .dataframe tbody tr th {\n",
       "        vertical-align: top;\n",
       "    }\n",
       "\n",
       "    .dataframe thead th {\n",
       "        text-align: right;\n",
       "    }\n",
       "</style>\n",
       "<table border=\"1\" class=\"dataframe\">\n",
       "  <thead>\n",
       "    <tr style=\"text-align: right;\">\n",
       "      <th></th>\n",
       "      <th>Name</th>\n",
       "      <th>Math</th>\n",
       "      <th>Science</th>\n",
       "      <th>English</th>\n",
       "      <th>Total</th>\n",
       "    </tr>\n",
       "  </thead>\n",
       "  <tbody>\n",
       "    <tr>\n",
       "      <th>0</th>\n",
       "      <td>Hertha Georgescu</td>\n",
       "      <td>65</td>\n",
       "      <td>21</td>\n",
       "      <td>9</td>\n",
       "      <td>95</td>\n",
       "    </tr>\n",
       "    <tr>\n",
       "      <th>1</th>\n",
       "      <td>Port Ferronet</td>\n",
       "      <td>25</td>\n",
       "      <td>15</td>\n",
       "      <td>71</td>\n",
       "      <td>111</td>\n",
       "    </tr>\n",
       "    <tr>\n",
       "      <th>2</th>\n",
       "      <td>Tony Beadell</td>\n",
       "      <td>46</td>\n",
       "      <td>12</td>\n",
       "      <td>27</td>\n",
       "      <td>85</td>\n",
       "    </tr>\n",
       "    <tr>\n",
       "      <th>3</th>\n",
       "      <td>Erica Cote</td>\n",
       "      <td>2</td>\n",
       "      <td>75</td>\n",
       "      <td>87</td>\n",
       "      <td>164</td>\n",
       "    </tr>\n",
       "    <tr>\n",
       "      <th>4</th>\n",
       "      <td>Lilllie Dryburgh</td>\n",
       "      <td>79</td>\n",
       "      <td>3</td>\n",
       "      <td>47</td>\n",
       "      <td>129</td>\n",
       "    </tr>\n",
       "  </tbody>\n",
       "</table>\n",
       "</div>"
      ],
      "text/plain": [
       "               Name  Math  Science  English  Total\n",
       "0  Hertha Georgescu    65       21        9     95\n",
       "1     Port Ferronet    25       15       71    111\n",
       "2      Tony Beadell    46       12       27     85\n",
       "3        Erica Cote     2       75       87    164\n",
       "4  Lilllie Dryburgh    79        3       47    129"
      ]
     },
     "execution_count": 6,
     "metadata": {},
     "output_type": "execute_result"
    }
   ],
   "source": [
    "df['Total']=df[['Math','Science','English']].sum(axis=1)\n",
    "df[['Name','Math','Science','English','Total']].head() #just verify the Total"
   ]
  },
  {
   "cell_type": "code",
   "execution_count": 7,
   "id": "626a90fd-2f97-4ae3-8660-2f59d3d688be",
   "metadata": {},
   "outputs": [],
   "source": [
    "def assign_grades(total):\n",
    "    if total>=250:\n",
    "        return 'A'\n",
    "    elif total>=200:\n",
    "        return 'B'\n",
    "    elif total>=150:\n",
    "        return 'C'\n",
    "    else:\n",
    "        return 'D'"
   ]
  },
  {
   "cell_type": "code",
   "execution_count": 10,
   "id": "dae53855-ad04-419a-bf24-ee3a66aaaa89",
   "metadata": {},
   "outputs": [],
   "source": [
    "df['Grade']= df['Total'].apply(assign_grades) ##Assign grades based on function"
   ]
  },
  {
   "cell_type": "code",
   "execution_count": 11,
   "id": "cfeacea8-c889-43c4-ba5e-34a39c7cb601",
   "metadata": {},
   "outputs": [
    {
     "data": {
      "text/html": [
       "<div>\n",
       "<style scoped>\n",
       "    .dataframe tbody tr th:only-of-type {\n",
       "        vertical-align: middle;\n",
       "    }\n",
       "\n",
       "    .dataframe tbody tr th {\n",
       "        vertical-align: top;\n",
       "    }\n",
       "\n",
       "    .dataframe thead th {\n",
       "        text-align: right;\n",
       "    }\n",
       "</style>\n",
       "<table border=\"1\" class=\"dataframe\">\n",
       "  <thead>\n",
       "    <tr style=\"text-align: right;\">\n",
       "      <th></th>\n",
       "      <th>Name</th>\n",
       "      <th>Total</th>\n",
       "      <th>Grade</th>\n",
       "    </tr>\n",
       "  </thead>\n",
       "  <tbody>\n",
       "    <tr>\n",
       "      <th>95</th>\n",
       "      <td>Dominga Macieja</td>\n",
       "      <td>161</td>\n",
       "      <td>C</td>\n",
       "    </tr>\n",
       "    <tr>\n",
       "      <th>96</th>\n",
       "      <td>Tam Hillam</td>\n",
       "      <td>226</td>\n",
       "      <td>B</td>\n",
       "    </tr>\n",
       "    <tr>\n",
       "      <th>97</th>\n",
       "      <td>Latashia Behninck</td>\n",
       "      <td>198</td>\n",
       "      <td>C</td>\n",
       "    </tr>\n",
       "    <tr>\n",
       "      <th>98</th>\n",
       "      <td>Ilsa Calan</td>\n",
       "      <td>176</td>\n",
       "      <td>C</td>\n",
       "    </tr>\n",
       "    <tr>\n",
       "      <th>99</th>\n",
       "      <td>Henrik Markl</td>\n",
       "      <td>154</td>\n",
       "      <td>C</td>\n",
       "    </tr>\n",
       "  </tbody>\n",
       "</table>\n",
       "</div>"
      ],
      "text/plain": [
       "                 Name  Total Grade\n",
       "95    Dominga Macieja    161     C\n",
       "96         Tam Hillam    226     B\n",
       "97  Latashia Behninck    198     C\n",
       "98         Ilsa Calan    176     C\n",
       "99       Henrik Markl    154     C"
      ]
     },
     "execution_count": 11,
     "metadata": {},
     "output_type": "execute_result"
    }
   ],
   "source": [
    "df[['Name','Total','Grade']].tail()"
   ]
  },
  {
   "cell_type": "code",
   "execution_count": 12,
   "id": "f37d6fa6-2007-4f53-9bf4-2f57e5c6f14a",
   "metadata": {},
   "outputs": [
    {
     "name": "stdout",
     "output_type": "stream",
     "text": [
      "    STUDENT_ID             Name  Math  Science  English  Total Grade\n",
      "21          22      Base Alcott    91       97       93    281     A\n",
      "31          32      Rona Hallad    99       54       97    250     A\n",
      "71          72  Luisa De Micoli    88       81       87    256     A\n",
      "87          88     Glyn Wheelan    84       91       78    253     A\n"
     ]
    }
   ],
   "source": [
    "grade_a_students= df[df['Grade']=='A']\n",
    "print(grade_a_students)"
   ]
  },
  {
   "cell_type": "code",
   "execution_count": 15,
   "id": "23b4efc2-e08c-4dcd-88c4-1118fbd7b9e5",
   "metadata": {},
   "outputs": [
    {
     "name": "stdout",
     "output_type": "stream",
     "text": [
      "No of students secured grade B: 15\n"
     ]
    }
   ],
   "source": [
    "grade_b_students= df[df['Grade']=='B']\n",
    "print('No of students secured grade B:',len(grade_b_students))"
   ]
  },
  {
   "cell_type": "code",
   "execution_count": 17,
   "id": "943b7d8e-2278-4cf3-b1f3-ceeda39e52ca",
   "metadata": {},
   "outputs": [
    {
     "name": "stdout",
     "output_type": "stream",
     "text": [
      "Total No of students failed: 47\n"
     ]
    }
   ],
   "source": [
    "print('Total No of students failed:', len(df[df['Grade']=='D']))"
   ]
  },
  {
   "cell_type": "code",
   "execution_count": 18,
   "id": "1348d79a-0ff8-4d11-9cdc-27ca8226b408",
   "metadata": {},
   "outputs": [
    {
     "name": "stdout",
     "output_type": "stream",
     "text": [
      "100\n"
     ]
    }
   ],
   "source": [
    "math_max= max(df['Math'])\n",
    "print(math_max)"
   ]
  },
  {
   "cell_type": "code",
   "execution_count": 19,
   "id": "0d9f4d10-ef79-43b6-9a65-688b9a01b1e2",
   "metadata": {},
   "outputs": [
    {
     "name": "stdout",
     "output_type": "stream",
     "text": [
      "    STUDENT_ID         Name  Math  Science  English  Total Grade\n",
      "17          18   Ab Glasbey   100      100       45    245     B\n",
      "46          47  Lane Maharg   100       80       38    218     B\n"
     ]
    }
   ],
   "source": [
    "print(df[df['Math']==math_max])"
   ]
  },
  {
   "cell_type": "code",
   "execution_count": 22,
   "id": "3879a0d6-a626-44d1-bd7c-cf0db1557577",
   "metadata": {},
   "outputs": [
    {
     "name": "stdout",
     "output_type": "stream",
     "text": [
      "File Created successfully\n"
     ]
    }
   ],
   "source": [
    "df.to_csv('result.csv',index=False)\n",
    "print(\"File Created successfully\")"
   ]
  },
  {
   "cell_type": "code",
   "execution_count": 27,
   "id": "33cb46ea-922c-49e1-ab79-d2576ecc28d1",
   "metadata": {},
   "outputs": [
    {
     "name": "stdout",
     "output_type": "stream",
     "text": [
      "Gionee Marathon M4\n"
     ]
    }
   ],
   "source": [
    "## Store Data\n",
    "store = pd.read_csv('store_data.csv')\n",
    "# print(store)\n",
    "most_sold_product= store.groupby('Product')['Quantity'].sum().idxmax()\n",
    "print(most_sold_product)"
   ]
  },
  {
   "cell_type": "code",
   "execution_count": 35,
   "id": "767a6102-8a2a-4dd5-8639-53238b1a6de9",
   "metadata": {},
   "outputs": [
    {
     "name": "stdout",
     "output_type": "stream",
     "text": [
      "p2\n"
     ]
    }
   ],
   "source": [
    "df1= pd.DataFrame({\n",
    "    \"id\":[1,2,3,4,5],\n",
    "    \"name\":[\"p1\",\"p2\",\"p1\",\"p2\",\"p3\"],\n",
    "    \"quantity\":[1,2,2,2,3],\n",
    "    \"price\":[10,20,10,20,30]\n",
    "})\n",
    "# print(df1)\n",
    "print(df1.groupby('name')['quantity'].sum().idxmax())"
   ]
  },
  {
   "cell_type": "code",
   "execution_count": null,
   "id": "8b0c50fb-2497-4346-9161-921fe8433416",
   "metadata": {},
   "outputs": [],
   "source": []
  }
 ],
 "metadata": {
  "kernelspec": {
   "display_name": "Python 3 (ipykernel)",
   "language": "python",
   "name": "python3"
  },
  "language_info": {
   "codemirror_mode": {
    "name": "ipython",
    "version": 3
   },
   "file_extension": ".py",
   "mimetype": "text/x-python",
   "name": "python",
   "nbconvert_exporter": "python",
   "pygments_lexer": "ipython3",
   "version": "3.11.9"
  }
 },
 "nbformat": 4,
 "nbformat_minor": 5
}
