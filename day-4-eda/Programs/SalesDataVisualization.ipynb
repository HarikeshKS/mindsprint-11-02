{
 "cells": [
  {
   "cell_type": "code",
   "execution_count": 1,
   "id": "e4298ab1-9f4e-4b52-81e6-44802a119820",
   "metadata": {},
   "outputs": [],
   "source": [
    "import numpy as np\n",
    "import matplotlib.pyplot as plt\n",
    "\n",
    "#Let's create Data\n",
    "sales= np.array([1300,1500,1600,2000,1900,1800,2100,1750,2100,1900])\n",
    "days= np.arange(1,11) # array of 1 to 10"
   ]
  },
  {
   "cell_type": "code",
   "execution_count": 2,
   "id": "b23a5f13-2ba9-46a5-bd66-3a6b4228cb0d",
   "metadata": {},
   "outputs": [
    {
     "name": "stdout",
     "output_type": "stream",
     "text": [
      "[1300 1500 1600 2000 1900 1800 2100 1750 2100 1900]\n"
     ]
    }
   ],
   "source": [
    "#Print Sales Data\n",
    "print(sales)"
   ]
  },
  {
   "cell_type": "code",
   "execution_count": 3,
   "id": "67c4464f-0599-49bf-be13-d7eca4e8354b",
   "metadata": {},
   "outputs": [
    {
     "name": "stdout",
     "output_type": "stream",
     "text": [
      "Total Sales: 17950\n",
      "Average Sales: 1795.00\n",
      "Highest Sale: 2100\n",
      "Lowest Sale: 1300\n"
     ]
    }
   ],
   "source": [
    "# Let's analyze the data\n",
    "total_sales= np.sum(sales)\n",
    "average_sales= np.mean(sales)\n",
    "highest_sale= np.max(sales)\n",
    "lowest_sale=np.min(sales)\n",
    "\n",
    "print(f\"Total Sales: {total_sales}\")\n",
    "print(f\"Average Sales: {average_sales:.2f}\") #format to give only 2 decimal points\n",
    "print(f\"Highest Sale: {highest_sale}\")\n",
    "print(f\"Lowest Sale: {lowest_sale}\")"
   ]
  },
  {
   "cell_type": "code",
   "execution_count": null,
   "id": "15be705e-623a-4106-bd9b-c47999517be1",
   "metadata": {},
   "outputs": [],
   "source": []
  }
 ],
 "metadata": {
  "kernelspec": {
   "display_name": "Python 3 (ipykernel)",
   "language": "python",
   "name": "python3"
  },
  "language_info": {
   "codemirror_mode": {
    "name": "ipython",
    "version": 3
   },
   "file_extension": ".py",
   "mimetype": "text/x-python",
   "name": "python",
   "nbconvert_exporter": "python",
   "pygments_lexer": "ipython3",
   "version": "3.11.9"
  }
 },
 "nbformat": 4,
 "nbformat_minor": 5
}
