{
 "cells": [
  {
   "cell_type": "code",
   "execution_count": 1,
   "id": "55285b7e-6c6c-42e0-ab30-35bc911efd2c",
   "metadata": {},
   "outputs": [
    {
     "name": "stdout",
     "output_type": "stream",
     "text": [
      "Version:  2.2.3\n"
     ]
    }
   ],
   "source": [
    "import pandas as pd\n",
    "print('Version: ',pd.__version__)"
   ]
  },
  {
   "cell_type": "code",
   "execution_count": 4,
   "id": "97946b2d-0bab-426a-9a2c-a4cfae5a87be",
   "metadata": {},
   "outputs": [
    {
     "name": "stdout",
     "output_type": "stream",
     "text": [
      "0     1\n",
      "1     9\n",
      "2     4\n",
      "3    29\n",
      "4    54\n",
      "5    89\n",
      "6    20\n",
      "dtype: int64\n",
      "Element at Index 3 29\n"
     ]
    }
   ],
   "source": [
    "list=[1,9,4,29,54,89,20]\n",
    "myseries=pd.Series(list)\n",
    "print(myseries)\n",
    "print('Element at Index 3',myseries[3])"
   ]
  },
  {
   "cell_type": "code",
   "execution_count": 6,
   "id": "56014823-c579-4468-ba34-3d65ea78c520",
   "metadata": {},
   "outputs": [
    {
     "name": "stdout",
     "output_type": "stream",
     "text": [
      "id                       1\n",
      "name            Sonam Soni\n",
      "email      sonam@gmail.com\n",
      "address             Mumbai\n",
      "salary             9876543\n",
      "dtype: object\n",
      "id 1\n",
      "name Sonam Soni\n"
     ]
    }
   ],
   "source": [
    "employee={\n",
    "    \"id\":1,\n",
    "    \"name\":\"Sonam Soni\",\n",
    "    \"email\":\"sonam@gmail.com\",\n",
    "    \"address\":\"Mumbai\",\n",
    "    \"salary\":9876543\n",
    "}\n",
    "data= pd.Series(employee)\n",
    "print(data)\n",
    "print(\"id\",data[\"id\"]) #label created automatically based on key\n",
    "print(\"name\",data[\"name\"])"
   ]
  },
  {
   "cell_type": "code",
   "execution_count": 17,
   "id": "0c0d7066-7a28-483c-b3e7-c8b39ea79897",
   "metadata": {},
   "outputs": [
    {
     "name": "stdout",
     "output_type": "stream",
     "text": [
      "   id name\n",
      "0   1    A\n",
      "1   2    B\n",
      "2   3    C\n",
      "3   4    D\n",
      "id      1\n",
      "name    A\n",
      "Name: 0, dtype: object\n",
      "A\n",
      "   id name\n",
      "0   1    A\n",
      "1   2    B\n"
     ]
    }
   ],
   "source": [
    "## Simple Data Frame\n",
    "sample={\n",
    "    \"id\":[1,2,3,4],\n",
    "    \"name\":[\"A\",\"B\",\"C\",\"D\"]\n",
    "}\n",
    "df=pd.DataFrame(sample)\n",
    "print(df)\n",
    "print(df.loc[0])\n",
    "print(df.iloc[0,1]) #index loc to get element at 0th row and 1st Column\n",
    "print(df.loc[[0,1]]) # first 2 rows"
   ]
  },
  {
   "cell_type": "code",
   "execution_count": 21,
   "id": "d5731a60-4338-471b-9a7f-704bbf35a216",
   "metadata": {},
   "outputs": [
    {
     "name": "stdout",
     "output_type": "stream",
     "text": [
      "   id name\n",
      "0   1    A\n",
      "2   3    C\n"
     ]
    }
   ],
   "source": [
    "print(df.loc[[0,2]]) # getting index based access"
   ]
  },
  {
   "cell_type": "code",
   "execution_count": 27,
   "id": "3bcf95c0-264b-46d3-8829-cf7f4f484809",
   "metadata": {},
   "outputs": [
    {
     "name": "stdout",
     "output_type": "stream",
     "text": [
      "name    bob\n",
      "age      23\n",
      "Name: user3, dtype: object\n",
      "        name  age\n",
      "user1   alex   23\n",
      "user2  catty   24\n",
      "user3    bob   23\n"
     ]
    }
   ],
   "source": [
    "user_data={\n",
    "    \"name\":[\"alex\",\"catty\",\"bob\"],\n",
    "    \"age\" : [23,24,23]\n",
    "}\n",
    "df1= pd.DataFrame(user_data,index=[\"user1\",\"user2\",\"user3\"])\n",
    "print(df1.loc[\"user3\"])\n",
    "print(df1)"
   ]
  },
  {
   "cell_type": "code",
   "execution_count": 34,
   "id": "8dc71c10-e887-4ad0-9fcc-4b48c0495e22",
   "metadata": {},
   "outputs": [
    {
     "name": "stdout",
     "output_type": "stream",
     "text": [
      "    name           email  age  salary\n",
      "0   alex  alex@gmail.com   23   34567\n",
      "1  catty   cat@gmail.com   24    9876\n",
      "2    bob   bob@gmail.com   23    7890\n"
     ]
    }
   ],
   "source": [
    "user_data={\n",
    "    \"age\" : [23,24,23],\n",
    "    \"name\":[\"alex\",\"catty\",\"bob\"],\n",
    "    \"salary\":[34567,9876,7890],\n",
    "    \"email\":[\"alex@gmail.com\",\"cat@gmail.com\",\"bob@gmail.com\"]\n",
    "}\n",
    "df1= pd.DataFrame(user_data,columns=[\"name\",\"email\",\"age\",\"salary\"])\n",
    "print(df1)"
   ]
  },
  {
   "cell_type": "code",
   "execution_count": 35,
   "id": "de6d8395-7ac8-4f34-b85b-be295a8ec6a2",
   "metadata": {},
   "outputs": [
    {
     "name": "stdout",
     "output_type": "stream",
     "text": [
      "     id               name                     email  gender  grade\n",
      "0     1  Cheston MacAlpine  cmacalpine0@linkedin.com    Male    4.2\n",
      "1     2     Maggee Gillham       mgillham1@diigo.com  Female    2.3\n",
      "2     3   Melloney Marxsen        mmarxsen2@uiuc.edu  Female    9.0\n",
      "3     4    Tynan Dabernott      tdabernott3@nasa.gov    Male    5.3\n",
      "4     5          Dick Rama           drama4@java.com    Male    1.5\n",
      "..  ...                ...                       ...     ...    ...\n",
      "95   96       Ernie Burren       eburren2n@google.pl    Male    2.0\n",
      "96   97      Cosette Mayes      cmayes2o@blogger.com  Female    8.7\n",
      "97   98      Arnuad Ismail  aismail2p@washington.edu    Male    3.1\n",
      "98   99      Pierre Friary  pfriary2q@deviantart.com    Male    1.0\n",
      "99  100      Lenna Klimsch      lklimsch2r@prlog.org  Female    3.1\n",
      "\n",
      "[100 rows x 5 columns]\n"
     ]
    }
   ],
   "source": [
    "student_data = pd.read_csv('student_data.csv')\n",
    "print(student_data) #printing entire dataframe"
   ]
  },
  {
   "cell_type": "code",
   "execution_count": 38,
   "id": "5416f5d2-252e-4f29-9e44-04a6408c8f49",
   "metadata": {},
   "outputs": [
    {
     "data": {
      "text/html": [
       "<div>\n",
       "<style scoped>\n",
       "    .dataframe tbody tr th:only-of-type {\n",
       "        vertical-align: middle;\n",
       "    }\n",
       "\n",
       "    .dataframe tbody tr th {\n",
       "        vertical-align: top;\n",
       "    }\n",
       "\n",
       "    .dataframe thead th {\n",
       "        text-align: right;\n",
       "    }\n",
       "</style>\n",
       "<table border=\"1\" class=\"dataframe\">\n",
       "  <thead>\n",
       "    <tr style=\"text-align: right;\">\n",
       "      <th></th>\n",
       "      <th>id</th>\n",
       "      <th>name</th>\n",
       "      <th>email</th>\n",
       "      <th>gender</th>\n",
       "      <th>grade</th>\n",
       "    </tr>\n",
       "  </thead>\n",
       "  <tbody>\n",
       "    <tr>\n",
       "      <th>0</th>\n",
       "      <td>1</td>\n",
       "      <td>Cheston MacAlpine</td>\n",
       "      <td>cmacalpine0@linkedin.com</td>\n",
       "      <td>Male</td>\n",
       "      <td>4.2</td>\n",
       "    </tr>\n",
       "    <tr>\n",
       "      <th>1</th>\n",
       "      <td>2</td>\n",
       "      <td>Maggee Gillham</td>\n",
       "      <td>mgillham1@diigo.com</td>\n",
       "      <td>Female</td>\n",
       "      <td>2.3</td>\n",
       "    </tr>\n",
       "    <tr>\n",
       "      <th>2</th>\n",
       "      <td>3</td>\n",
       "      <td>Melloney Marxsen</td>\n",
       "      <td>mmarxsen2@uiuc.edu</td>\n",
       "      <td>Female</td>\n",
       "      <td>9.0</td>\n",
       "    </tr>\n",
       "    <tr>\n",
       "      <th>3</th>\n",
       "      <td>4</td>\n",
       "      <td>Tynan Dabernott</td>\n",
       "      <td>tdabernott3@nasa.gov</td>\n",
       "      <td>Male</td>\n",
       "      <td>5.3</td>\n",
       "    </tr>\n",
       "    <tr>\n",
       "      <th>4</th>\n",
       "      <td>5</td>\n",
       "      <td>Dick Rama</td>\n",
       "      <td>drama4@java.com</td>\n",
       "      <td>Male</td>\n",
       "      <td>1.5</td>\n",
       "    </tr>\n",
       "  </tbody>\n",
       "</table>\n",
       "</div>"
      ],
      "text/plain": [
       "   id               name                     email  gender  grade\n",
       "0   1  Cheston MacAlpine  cmacalpine0@linkedin.com    Male    4.2\n",
       "1   2     Maggee Gillham       mgillham1@diigo.com  Female    2.3\n",
       "2   3   Melloney Marxsen        mmarxsen2@uiuc.edu  Female    9.0\n",
       "3   4    Tynan Dabernott      tdabernott3@nasa.gov    Male    5.3\n",
       "4   5          Dick Rama           drama4@java.com    Male    1.5"
      ]
     },
     "execution_count": 38,
     "metadata": {},
     "output_type": "execute_result"
    }
   ],
   "source": [
    "#directly taking tabular structure\n",
    "student_data.head()\n",
    "# print(student_data.head())"
   ]
  },
  {
   "cell_type": "code",
   "execution_count": 39,
   "id": "1e996360-70a5-46f7-870c-5b9a1392fb4d",
   "metadata": {},
   "outputs": [
    {
     "name": "stdout",
     "output_type": "stream",
     "text": [
      "     id                  name                          email       gender  grade\n",
      "0     1     Cheston MacAlpine       cmacalpine0@linkedin.com         Male    4.2\n",
      "1     2        Maggee Gillham            mgillham1@diigo.com       Female    2.3\n",
      "2     3      Melloney Marxsen             mmarxsen2@uiuc.edu       Female    9.0\n",
      "3     4       Tynan Dabernott           tdabernott3@nasa.gov         Male    5.3\n",
      "4     5             Dick Rama                drama4@java.com         Male    1.5\n",
      "5     6   Alejandrina Simmers       asimmers5@privacy.gov.au     Bigender    9.4\n",
      "6     7        Chauncey Focke         cfocke6@slideshare.net      Agender    6.9\n",
      "7     8           Julie Ismay                jismay7@gnu.org  Genderfluid    7.7\n",
      "8     9       Antonia Duckels        aduckels8@rakuten.co.jp       Female    2.5\n",
      "9    10          Graig Chaman          gchaman9@buzzfeed.com         Male    5.2\n",
      "10   11        Fran Humphries  fhumphriesa@ezinearticles.com         Male    3.1\n",
      "11   12           Dolly Tilby          dtilbyb@blinklist.com       Female    4.3\n",
      "12   13        Dilan Ducastel      dducastelc@infoseek.co.jp         Male    2.2\n",
      "13   14       Georgina Aronow         garonowd@indiegogo.com       Female    8.3\n",
      "14   15        Annetta Runham               arunhame@php.net       Female    4.6\n",
      "15   16     Deborah Scandrite    dscandritef@fastcompany.com       Female    3.7\n",
      "16   17           Emili Blade              ebladeg@vimeo.com       Female    2.0\n",
      "17   18         Colet Ridoutt               cridoutth@qq.com         Male    3.1\n",
      "18   19        Neel Edworthye         nedworthyei@ebay.co.uk   Polygender    7.5\n",
      "19   20           Regine Tutt            rtuttj@hatena.ne.jp       Female    9.4\n",
      "20   21     Eugene Bickerdike  ebickerdikek@biblegateway.com   Non-binary    3.5\n",
      "21   22      Paulina Leyborne     pleybornel@hugedomains.com       Female    8.0\n",
      "22   23     Christoforo Soles              csolesm@google.fr         Male    8.0\n",
      "23   24   Corabella Saltsberg      csaltsbergn@quantcast.com       Female    9.0\n",
      "24   25        Zahara Stanway            zstanwayo@phpbb.com       Female    8.2\n",
      "25   26  Courtnay Joselevitch         cjoselevitchp@wisc.edu         Male    3.3\n",
      "26   27      Chevalier Dwelly             cdwellyq@blogs.com         Male    1.9\n",
      "27   28             Rob Spain              rspainr@europa.eu         Male    8.5\n",
      "28   29          Granny Dykas             gdykass@disqus.com         Male    2.0\n",
      "29   30     Harrietta Yglesia             hyglesiat@ucsd.edu       Female    2.6\n",
      "30   31        Shelba Ambrose           sambroseu@google.com  Genderqueer    5.1\n",
      "31   32         Fae Mapletoft            fmapletoftv@hhs.gov       Female    5.3\n",
      "32   33       Lyndsie Dishmon  ldishmonw@merriam-webster.com       Female    3.2\n",
      "33   34       Mariya Pflieger           mpfliegerx@wired.com       Female    2.7\n",
      "34   35          Blondy Foyle      bfoyley@cocolog-nifty.com     Bigender    8.6\n",
      "35   36           Clive Wilds    cwildsz@businessinsider.com         Male    5.4\n",
      "36   37       Lyell Cockshoot           lcockshoot10@cdc.gov         Male    1.4\n",
      "37   38           Micah Beere             mbeere11@mysql.com         Male    2.2\n",
      "38   39          Elvis Easman        eeasman12@rakuten.co.jp         Male    5.6\n",
      "39   40      Amargo Brakewell        abrakewell13@utexas.edu       Female    5.2\n",
      "40   41         Wilone Dodson          wdodson14@answers.com       Female    4.9\n",
      "41   42     Barrie Avrahamian    bavrahamian15@newyorker.com         Male    9.8\n",
      "42   43          Smith Mynott          smynott16@archive.org         Male    9.6\n",
      "43   44   Laurianne Tregunnah          ltregunnah17@ning.com       Female    6.3\n",
      "44   45      Bertha McIlwaine         bmcilwaine18@exblog.jp       Female    5.1\n",
      "45   46          Anthea Fawlo               afawlo19@sun.com       Female    6.8\n",
      "46   47        Nicolea Oldale   noldale1a@simplemachines.org       Female    4.4\n",
      "47   48     Banky Stinchcombe        bstinchcombe1b@ebay.com      Agender    9.1\n",
      "48   49       Justino Deviney          jdeviney1c@unicef.org         Male    1.6\n",
      "49   50    Letisha Matzkaitis        lmatzkaitis1d@ifeng.com       Female    2.0\n",
      "50   51        Hilton Capelle           hcapelle1e@europa.eu         Male    3.2\n",
      "51   52       Silvanus Kilian            skilian1f@google.nl         Male    4.0\n",
      "52   53      Uriah Waadenburg  uwaadenburg1g@tripadvisor.com         Male    7.0\n",
      "53   54  Violetta Littlefield       vlittlefield1h@fotki.com       Female    8.9\n",
      "54   55      Wilbert Hallihan            whallihan1i@wsj.com         Male    6.9\n",
      "55   56    Nikolas Abramovitz          nabramovitz1j@npr.org         Male    4.0\n",
      "56   57   Maynard Northcliffe      mnorthcliffe1k@toplist.cz         Male    3.4\n",
      "57   58           Amye Boggas      aboggas1l@istockphoto.com       Female    7.3\n",
      "58   59       Levin MacMechan   lmacmechan1m@theguardian.com         Male    6.3\n",
      "59   60    Timothy Beavington       tbeavington1n@flavors.me         Male    4.3\n",
      "60   61       Fairlie Didball          fdidball1o@eepurl.com         Male    5.7\n",
      "61   62        Doralynne Rand             drand1p@nsw.gov.au       Female    5.7\n",
      "62   63        Wernher Pavett              wpavett1q@bbb.org         Male    2.5\n",
      "63   64         Rossie Rielly           rrielly1r@flavors.me     Bigender    2.6\n",
      "64   65        Greer Hourstan      ghourstan1s@wordpress.com       Female    9.8\n",
      "65   66    Kinnie Danilchenko     kdanilchenko1t@smugmug.com         Male    1.7\n",
      "66   67          Merle Golson        mgolson1u@bloglovin.com       Female    6.4\n",
      "67   68        Napoleon Nuton             nnuton1v@jigsy.com         Male    7.9\n",
      "68   69     Martainn Noorwood             mnoorwood1w@go.com         Male    4.3\n",
      "69   70        Galvin Laviste           glaviste1x@topsy.com         Male    6.2\n",
      "70   71      Jenica Bartoleyn           jbartoleyn1y@ted.com       Female    1.2\n",
      "71   72         Aluino Broker                abroker1z@de.vu         Male    7.1\n",
      "72   73        Niccolo Dyball         ndyball20@usatoday.com         Male    5.8\n",
      "73   74     Bernardine Bateup            bbateup21@hc360.com       Female    8.9\n",
      "74   75         Renaldo Goman             rgoman22@prlog.org         Male    2.0\n",
      "75   76        Rubie Gillooly       rgillooly23@newsvine.com       Female    3.5\n",
      "76   77        Winona Euplate                weuplate24@t.co       Female    6.5\n",
      "77   78        Godard Bartley      gbartley25@guardian.co.uk         Male    1.9\n",
      "78   79          Pen Gladbeck           pgladbeck26@sohu.com         Male    9.2\n",
      "79   80         Beulah Nassau            bnassau27@google.ru       Female    2.2\n",
      "80   81            Dave Okill         dokill28@people.com.cn         Male    4.5\n",
      "81   82             Cori Hunt       chunt29@odnoklassniki.ru         Male    4.5\n",
      "82   83         Josee Delagua            jdelagua2a@army.mil   Polygender    7.9\n",
      "83   84        Aldwin Doherty       adoherty2b@clickbank.net         Male    9.8\n",
      "84   85       Harcourt Widdop          hwiddop2c@shop-pro.jp         Male    4.0\n",
      "85   86    Doroteya Schinetti            dschinetti2d@go.com       Female    6.2\n",
      "86   87          Aubrey Gokes       agokes2e@cyberchimps.com         Male    3.4\n",
      "87   88        Bernie Jickles        bjickles2f@hatena.ne.jp         Male    5.8\n",
      "88   89       Lodovico Stains          lstains2g@jiathis.com         Male    7.4\n",
      "89   90        Page de Merida           pde2h@thetimes.co.uk         Male    7.8\n",
      "90   91        Dorise Kirrens             dkirrens2i@fda.gov       Female    3.1\n",
      "91   92       Reinwald Pessel       rpessel2j@feedburner.com         Male    1.6\n",
      "92   93    Roobbie Brotherhed      rbrotherhed2k@cbsnews.com       Female    6.9\n",
      "93   94       Lemmie Braisher      lbraisher2l@economist.com         Male    6.7\n",
      "94   95      Myrtia Anthiftle        manthiftle2m@zimbio.com       Female    7.7\n",
      "95   96          Ernie Burren            eburren2n@google.pl         Male    2.0\n",
      "96   97         Cosette Mayes           cmayes2o@blogger.com       Female    8.7\n",
      "97   98         Arnuad Ismail       aismail2p@washington.edu         Male    3.1\n",
      "98   99         Pierre Friary       pfriary2q@deviantart.com         Male    1.0\n",
      "99  100         Lenna Klimsch           lklimsch2r@prlog.org       Female    3.1\n"
     ]
    }
   ],
   "source": [
    "# See all data\n",
    "print(student_data.to_string())"
   ]
  },
  {
   "cell_type": "code",
   "execution_count": 40,
   "id": "060d07e7-9573-4efd-89af-71ae72ddefd2",
   "metadata": {},
   "outputs": [
    {
     "name": "stdout",
     "output_type": "stream",
     "text": [
      "   id               name                     email  gender  grade\n",
      "0   1  Cheston MacAlpine  cmacalpine0@linkedin.com    Male    4.2\n",
      "1   2     Maggee Gillham       mgillham1@diigo.com  Female    2.3\n",
      "2   3   Melloney Marxsen        mmarxsen2@uiuc.edu  Female    9.0\n"
     ]
    }
   ],
   "source": [
    "print(student_data.head(3)) ## give first 3 rows"
   ]
  },
  {
   "cell_type": "code",
   "execution_count": 41,
   "id": "6614058a-7e41-4adb-b0c9-d782bbb335c8",
   "metadata": {},
   "outputs": [
    {
     "name": "stdout",
     "output_type": "stream",
     "text": [
      "     id           name                     email  gender  grade\n",
      "98   99  Pierre Friary  pfriary2q@deviantart.com    Male    1.0\n",
      "99  100  Lenna Klimsch      lklimsch2r@prlog.org  Female    3.1\n"
     ]
    }
   ],
   "source": [
    "# Last 2 rows\n",
    "print(student_data.tail(2))"
   ]
  },
  {
   "cell_type": "code",
   "execution_count": 42,
   "id": "a6bdf5f4-3deb-4b67-9a0d-9b71aa20d142",
   "metadata": {},
   "outputs": [
    {
     "name": "stdout",
     "output_type": "stream",
     "text": [
      "(100, 5)\n"
     ]
    }
   ],
   "source": [
    "# No of Rows and Columns\n",
    "print(student_data.shape)"
   ]
  },
  {
   "cell_type": "code",
   "execution_count": 43,
   "id": "ad816f4e-c238-4d5b-9bcf-dc8e03ea7d6c",
   "metadata": {},
   "outputs": [
    {
     "name": "stdout",
     "output_type": "stream",
     "text": [
      "<class 'pandas.core.frame.DataFrame'>\n",
      "RangeIndex: 100 entries, 0 to 99\n",
      "Data columns (total 5 columns):\n",
      " #   Column  Non-Null Count  Dtype  \n",
      "---  ------  --------------  -----  \n",
      " 0   id      100 non-null    int64  \n",
      " 1   name    100 non-null    object \n",
      " 2   email   100 non-null    object \n",
      " 3   gender  100 non-null    object \n",
      " 4   grade   100 non-null    float64\n",
      "dtypes: float64(1), int64(1), object(3)\n",
      "memory usage: 4.0+ KB\n",
      "None\n"
     ]
    }
   ],
   "source": [
    "# Summary\n",
    "print(student_data.info())"
   ]
  },
  {
   "cell_type": "code",
   "execution_count": 49,
   "id": "4278a77d-495c-4173-a4cf-f4a863c24fbb",
   "metadata": {},
   "outputs": [
    {
     "data": {
      "text/plain": [
       "count    100.000000\n",
       "mean       5.231000\n",
       "std        2.568012\n",
       "min        1.000000\n",
       "25%        3.100000\n",
       "50%        5.150000\n",
       "75%        7.425000\n",
       "max        9.800000\n",
       "Name: grade, dtype: float64"
      ]
     },
     "execution_count": 49,
     "metadata": {},
     "output_type": "execute_result"
    }
   ],
   "source": [
    "student_data['grade'].describe() #describe only for grade column"
   ]
  },
  {
   "cell_type": "code",
   "execution_count": 48,
   "id": "0fb5dd88-008d-41de-829a-41b4190697b2",
   "metadata": {},
   "outputs": [
    {
     "data": {
      "text/html": [
       "<div>\n",
       "<style scoped>\n",
       "    .dataframe tbody tr th:only-of-type {\n",
       "        vertical-align: middle;\n",
       "    }\n",
       "\n",
       "    .dataframe tbody tr th {\n",
       "        vertical-align: top;\n",
       "    }\n",
       "\n",
       "    .dataframe thead th {\n",
       "        text-align: right;\n",
       "    }\n",
       "</style>\n",
       "<table border=\"1\" class=\"dataframe\">\n",
       "  <thead>\n",
       "    <tr style=\"text-align: right;\">\n",
       "      <th></th>\n",
       "      <th>id</th>\n",
       "      <th>name</th>\n",
       "      <th>grade</th>\n",
       "    </tr>\n",
       "  </thead>\n",
       "  <tbody>\n",
       "    <tr>\n",
       "      <th>0</th>\n",
       "      <td>1</td>\n",
       "      <td>Cheston MacAlpine</td>\n",
       "      <td>4.2</td>\n",
       "    </tr>\n",
       "    <tr>\n",
       "      <th>1</th>\n",
       "      <td>2</td>\n",
       "      <td>Maggee Gillham</td>\n",
       "      <td>2.3</td>\n",
       "    </tr>\n",
       "    <tr>\n",
       "      <th>2</th>\n",
       "      <td>3</td>\n",
       "      <td>Melloney Marxsen</td>\n",
       "      <td>9.0</td>\n",
       "    </tr>\n",
       "    <tr>\n",
       "      <th>3</th>\n",
       "      <td>4</td>\n",
       "      <td>Tynan Dabernott</td>\n",
       "      <td>5.3</td>\n",
       "    </tr>\n",
       "    <tr>\n",
       "      <th>4</th>\n",
       "      <td>5</td>\n",
       "      <td>Dick Rama</td>\n",
       "      <td>1.5</td>\n",
       "    </tr>\n",
       "  </tbody>\n",
       "</table>\n",
       "</div>"
      ],
      "text/plain": [
       "   id               name  grade\n",
       "0   1  Cheston MacAlpine    4.2\n",
       "1   2     Maggee Gillham    2.3\n",
       "2   3   Melloney Marxsen    9.0\n",
       "3   4    Tynan Dabernott    5.3\n",
       "4   5          Dick Rama    1.5"
      ]
     },
     "execution_count": 48,
     "metadata": {},
     "output_type": "execute_result"
    }
   ],
   "source": [
    "student_data[['id','name','grade']].head() #reading selected columns"
   ]
  },
  {
   "cell_type": "code",
   "execution_count": null,
   "id": "8262334a-4be9-4d88-b897-d06a0ba3107a",
   "metadata": {},
   "outputs": [],
   "source": []
  }
 ],
 "metadata": {
  "kernelspec": {
   "display_name": "Python 3 (ipykernel)",
   "language": "python",
   "name": "python3"
  },
  "language_info": {
   "codemirror_mode": {
    "name": "ipython",
    "version": 3
   },
   "file_extension": ".py",
   "mimetype": "text/x-python",
   "name": "python",
   "nbconvert_exporter": "python",
   "pygments_lexer": "ipython3",
   "version": "3.11.9"
  }
 },
 "nbformat": 4,
 "nbformat_minor": 5
}
