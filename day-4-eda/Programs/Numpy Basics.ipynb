{
 "cells": [
  {
   "cell_type": "code",
   "execution_count": 1,
   "id": "edcb9bf6-2303-4b33-a04e-d5cf93e8e73c",
   "metadata": {},
   "outputs": [
    {
     "name": "stdout",
     "output_type": "stream",
     "text": [
      "2.2.2\n"
     ]
    }
   ],
   "source": [
    "import numpy as np\n",
    "print(np.__version__)"
   ]
  },
  {
   "cell_type": "code",
   "execution_count": 3,
   "id": "4f866b10-d6f2-463c-a446-2b3ae6d08b6e",
   "metadata": {},
   "outputs": [
    {
     "name": "stdout",
     "output_type": "stream",
     "text": [
      "[10 20 30 40 50]\n",
      "Type: <class 'numpy.ndarray'>\n",
      "Shape (5,)\n"
     ]
    }
   ],
   "source": [
    "## Array Cretaion\n",
    "list=[10,20,30,40,50]\n",
    "arr= np.array(list)\n",
    "print(arr)\n",
    "print('Type:', type(arr))\n",
    "print('Shape', arr.shape)"
   ]
  },
  {
   "cell_type": "code",
   "execution_count": 7,
   "id": "cd497300-ed23-44a8-b975-905b1d5fba40",
   "metadata": {},
   "outputs": [
    {
     "name": "stdout",
     "output_type": "stream",
     "text": [
      "[[1 2 3]\n",
      " [4 5 6]]\n",
      "(2, 3)\n",
      "6\n",
      "[1 2 3]\n",
      "3\n"
     ]
    }
   ],
   "source": [
    "arr1= np.array([[1,2,3],[4,5,6]])\n",
    "print(arr1)\n",
    "print(arr1.shape)## rows and columns\n",
    "print(arr1.size) ##length\n",
    "print(arr1[0])## first row\n",
    "print(arr1[0][2]) #first row 3rd column"
   ]
  },
  {
   "cell_type": "code",
   "execution_count": 11,
   "id": "aa31851f-e238-414c-81de-55aa95290dd7",
   "metadata": {},
   "outputs": [
    {
     "name": "stdout",
     "output_type": "stream",
     "text": [
      "[[0. 0. 0.]\n",
      " [0. 0. 0.]]\n",
      "0.0\n"
     ]
    }
   ],
   "source": [
    "##Genearte Array\n",
    "arr1= np.zeros((2,3)) # 2X3 matrix\n",
    "print(arr1)\n",
    "print(arr1[0][1]) "
   ]
  },
  {
   "cell_type": "code",
   "execution_count": 12,
   "id": "f35d4e69-a8ab-449f-94fe-c06865964dde",
   "metadata": {},
   "outputs": [
    {
     "name": "stdout",
     "output_type": "stream",
     "text": [
      "[[1. 1. 1.]\n",
      " [1. 1. 1.]\n",
      " [1. 1. 1.]]\n"
     ]
    }
   ],
   "source": [
    "arr2= np.ones((3,3))\n",
    "print(arr2)"
   ]
  },
  {
   "cell_type": "code",
   "execution_count": 23,
   "id": "9295db7f-9098-47d7-85c1-a26b451e48f5",
   "metadata": {},
   "outputs": [
    {
     "name": "stdout",
     "output_type": "stream",
     "text": [
      "[ 3  9 15]\n",
      "[ 2 20 56]\n",
      "[ 1 16 49]\n"
     ]
    }
   ],
   "source": [
    "arr3= np.arange(1,10,3) # [1,4,7]\n",
    "arr4= np.arange(2,10,3) # [2,5,8]\n",
    "print(arr3+arr4) #adding [3,9,15]\n",
    "print(arr3*arr4) #multiply\n",
    "print(arr3**2)"
   ]
  },
  {
   "cell_type": "code",
   "execution_count": 17,
   "id": "7f86e4b9-17b5-4ee6-b830-e488044d5134",
   "metadata": {},
   "outputs": [
    {
     "name": "stdout",
     "output_type": "stream",
     "text": [
      "[[1 4 7]\n",
      " [2 5 8]]\n"
     ]
    }
   ],
   "source": [
    "sample=np.array([np.arange(1,10,3),np.arange(2,10,3)])\n",
    "print(sample)"
   ]
  },
  {
   "cell_type": "code",
   "execution_count": 24,
   "id": "c99a6550-54f5-444e-95eb-b92bead07609",
   "metadata": {},
   "outputs": [
    {
     "name": "stdout",
     "output_type": "stream",
     "text": [
      "Total Sales: 15900\n",
      "Average Sales: 1590.0\n",
      "Highest Sale: 2000\n",
      "Lowset Sale: 1000\n"
     ]
    }
   ],
   "source": [
    "sales=np.array([1000,1800,1500,1100,1900,1500,1950,2000,1750,1400])\n",
    "#Assume 10days sales data\n",
    "total_sales= np.sum(sales)\n",
    "average_sales=np.average(sales)\n",
    "highest_sales=np.max(sales)\n",
    "lowest_sales=np.min(sales)\n",
    "print('Total Sales:',total_sales)\n",
    "print('Average Sales:',average_sales)\n",
    "print('Highest Sale:',highest_sales)\n",
    "print('Lowset Sale:',lowest_sales)"
   ]
  },
  {
   "cell_type": "code",
   "execution_count": 25,
   "id": "04192804-8a84-4f7e-b5a5-5f31624aab5f",
   "metadata": {},
   "outputs": [
    {
     "name": "stdout",
     "output_type": "stream",
     "text": [
      "Sales Higher than average [1800 1900 1950 2000 1750]\n"
     ]
    }
   ],
   "source": [
    "print('Sales Higher than average',sales[sales>average_sales])"
   ]
  },
  {
   "cell_type": "code",
   "execution_count": 27,
   "id": "e36334b2-54d4-4169-bc2d-ac7e8a9d6f7e",
   "metadata": {},
   "outputs": [
    {
     "name": "stdout",
     "output_type": "stream",
     "text": [
      "[1100. 1980. 1650. 1210. 2090. 1650. 2145. 2200. 1925. 1540.]\n",
      "[1000 1800 1500 1100 1900 1500 1950 2000 1750 1400]\n"
     ]
    }
   ],
   "source": [
    "updated= sales*1.1\n",
    "print(updated)\n",
    "print(sales) #original is not updated"
   ]
  },
  {
   "cell_type": "code",
   "execution_count": 28,
   "id": "f7b4ad56-59c6-40ef-8a9b-d47f0627524c",
   "metadata": {},
   "outputs": [
    {
     "name": "stdout",
     "output_type": "stream",
     "text": [
      "[1000 1100 1400 1500 1500 1750 1800 1900 1950 2000]\n"
     ]
    }
   ],
   "source": [
    "#Sort\n",
    "print(np.sort(sales))"
   ]
  },
  {
   "cell_type": "code",
   "execution_count": 29,
   "id": "e4a36c43-4d8d-4523-8b58-ea8887173b95",
   "metadata": {},
   "outputs": [
    {
     "name": "stdout",
     "output_type": "stream",
     "text": [
      "   Order_ID       Product     Category  Quantity  Price  Total_Amount        Date\n",
      "0      1001        Laptop  Electronics         2    700           NaN  2024-02-01\n",
      "1      1002  Mobile Phone  Electronics         1    500           NaN  2024-02-02\n",
      "2      1003    Headphones  Accessories         3     50           NaN  2024-02-03\n",
      "3      1004         Mouse  Accessories         2     20           NaN  2024-02-04\n",
      "4      1005      Keyboard  Accessories         1     30           NaN  2024-02-05\n",
      "5      1006       T-shirt     Clothing         4     15           NaN  2024-02-06\n",
      "6      1007        Jacket     Clothing         1     60           NaN  2024-02-07\n",
      "7      1008  Refrigerator  Electronics         1    900           NaN  2024-02-08\n",
      "8      1009            TV  Electronics         2   1100           NaN  2024-02-09\n",
      "9      1010         Shoes     Clothing         2     40           NaN  2024-02-10\n"
     ]
    }
   ],
   "source": [
    "import pandas as pd\n",
    "df= pd.read_csv('sales_data.csv')\n",
    "print(df)"
   ]
  },
  {
   "cell_type": "code",
   "execution_count": 30,
   "id": "e01cb8e1-01c1-4d4c-bc1b-4ccd933647ac",
   "metadata": {},
   "outputs": [
    {
     "name": "stdout",
     "output_type": "stream",
     "text": [
      "<class 'pandas.core.frame.DataFrame'>\n",
      "RangeIndex: 10 entries, 0 to 9\n",
      "Data columns (total 7 columns):\n",
      " #   Column        Non-Null Count  Dtype  \n",
      "---  ------        --------------  -----  \n",
      " 0   Order_ID      10 non-null     int64  \n",
      " 1   Product       10 non-null     object \n",
      " 2   Category      10 non-null     object \n",
      " 3   Quantity      10 non-null     int64  \n",
      " 4   Price         10 non-null     int64  \n",
      " 5   Total_Amount  0 non-null      float64\n",
      " 6   Date          10 non-null     object \n",
      "dtypes: float64(1), int64(3), object(3)\n",
      "memory usage: 692.0+ bytes\n"
     ]
    }
   ],
   "source": [
    "df.info()"
   ]
  },
  {
   "cell_type": "code",
   "execution_count": 31,
   "id": "d5e1cb81-787c-4573-9941-261d6e1542c7",
   "metadata": {},
   "outputs": [
    {
     "data": {
      "text/html": [
       "<div>\n",
       "<style scoped>\n",
       "    .dataframe tbody tr th:only-of-type {\n",
       "        vertical-align: middle;\n",
       "    }\n",
       "\n",
       "    .dataframe tbody tr th {\n",
       "        vertical-align: top;\n",
       "    }\n",
       "\n",
       "    .dataframe thead th {\n",
       "        text-align: right;\n",
       "    }\n",
       "</style>\n",
       "<table border=\"1\" class=\"dataframe\">\n",
       "  <thead>\n",
       "    <tr style=\"text-align: right;\">\n",
       "      <th></th>\n",
       "      <th>Order_ID</th>\n",
       "      <th>Product</th>\n",
       "      <th>Category</th>\n",
       "      <th>Quantity</th>\n",
       "      <th>Price</th>\n",
       "      <th>Total_Amount</th>\n",
       "      <th>Date</th>\n",
       "    </tr>\n",
       "  </thead>\n",
       "  <tbody>\n",
       "    <tr>\n",
       "      <th>0</th>\n",
       "      <td>False</td>\n",
       "      <td>False</td>\n",
       "      <td>False</td>\n",
       "      <td>False</td>\n",
       "      <td>False</td>\n",
       "      <td>True</td>\n",
       "      <td>False</td>\n",
       "    </tr>\n",
       "    <tr>\n",
       "      <th>1</th>\n",
       "      <td>False</td>\n",
       "      <td>False</td>\n",
       "      <td>False</td>\n",
       "      <td>False</td>\n",
       "      <td>False</td>\n",
       "      <td>True</td>\n",
       "      <td>False</td>\n",
       "    </tr>\n",
       "    <tr>\n",
       "      <th>2</th>\n",
       "      <td>False</td>\n",
       "      <td>False</td>\n",
       "      <td>False</td>\n",
       "      <td>False</td>\n",
       "      <td>False</td>\n",
       "      <td>True</td>\n",
       "      <td>False</td>\n",
       "    </tr>\n",
       "    <tr>\n",
       "      <th>3</th>\n",
       "      <td>False</td>\n",
       "      <td>False</td>\n",
       "      <td>False</td>\n",
       "      <td>False</td>\n",
       "      <td>False</td>\n",
       "      <td>True</td>\n",
       "      <td>False</td>\n",
       "    </tr>\n",
       "    <tr>\n",
       "      <th>4</th>\n",
       "      <td>False</td>\n",
       "      <td>False</td>\n",
       "      <td>False</td>\n",
       "      <td>False</td>\n",
       "      <td>False</td>\n",
       "      <td>True</td>\n",
       "      <td>False</td>\n",
       "    </tr>\n",
       "    <tr>\n",
       "      <th>5</th>\n",
       "      <td>False</td>\n",
       "      <td>False</td>\n",
       "      <td>False</td>\n",
       "      <td>False</td>\n",
       "      <td>False</td>\n",
       "      <td>True</td>\n",
       "      <td>False</td>\n",
       "    </tr>\n",
       "    <tr>\n",
       "      <th>6</th>\n",
       "      <td>False</td>\n",
       "      <td>False</td>\n",
       "      <td>False</td>\n",
       "      <td>False</td>\n",
       "      <td>False</td>\n",
       "      <td>True</td>\n",
       "      <td>False</td>\n",
       "    </tr>\n",
       "    <tr>\n",
       "      <th>7</th>\n",
       "      <td>False</td>\n",
       "      <td>False</td>\n",
       "      <td>False</td>\n",
       "      <td>False</td>\n",
       "      <td>False</td>\n",
       "      <td>True</td>\n",
       "      <td>False</td>\n",
       "    </tr>\n",
       "    <tr>\n",
       "      <th>8</th>\n",
       "      <td>False</td>\n",
       "      <td>False</td>\n",
       "      <td>False</td>\n",
       "      <td>False</td>\n",
       "      <td>False</td>\n",
       "      <td>True</td>\n",
       "      <td>False</td>\n",
       "    </tr>\n",
       "    <tr>\n",
       "      <th>9</th>\n",
       "      <td>False</td>\n",
       "      <td>False</td>\n",
       "      <td>False</td>\n",
       "      <td>False</td>\n",
       "      <td>False</td>\n",
       "      <td>True</td>\n",
       "      <td>False</td>\n",
       "    </tr>\n",
       "  </tbody>\n",
       "</table>\n",
       "</div>"
      ],
      "text/plain": [
       "   Order_ID  Product  Category  Quantity  Price  Total_Amount   Date\n",
       "0     False    False     False     False  False          True  False\n",
       "1     False    False     False     False  False          True  False\n",
       "2     False    False     False     False  False          True  False\n",
       "3     False    False     False     False  False          True  False\n",
       "4     False    False     False     False  False          True  False\n",
       "5     False    False     False     False  False          True  False\n",
       "6     False    False     False     False  False          True  False\n",
       "7     False    False     False     False  False          True  False\n",
       "8     False    False     False     False  False          True  False\n",
       "9     False    False     False     False  False          True  False"
      ]
     },
     "execution_count": 31,
     "metadata": {},
     "output_type": "execute_result"
    }
   ],
   "source": [
    "df.isnull()"
   ]
  },
  {
   "cell_type": "code",
   "execution_count": 32,
   "id": "247463aa-c792-45d9-9449-f9dcfdd585ae",
   "metadata": {},
   "outputs": [
    {
     "data": {
      "text/html": [
       "<div>\n",
       "<style scoped>\n",
       "    .dataframe tbody tr th:only-of-type {\n",
       "        vertical-align: middle;\n",
       "    }\n",
       "\n",
       "    .dataframe tbody tr th {\n",
       "        vertical-align: top;\n",
       "    }\n",
       "\n",
       "    .dataframe thead th {\n",
       "        text-align: right;\n",
       "    }\n",
       "</style>\n",
       "<table border=\"1\" class=\"dataframe\">\n",
       "  <thead>\n",
       "    <tr style=\"text-align: right;\">\n",
       "      <th></th>\n",
       "      <th>Order_ID</th>\n",
       "      <th>Product</th>\n",
       "      <th>Category</th>\n",
       "      <th>Quantity</th>\n",
       "      <th>Price</th>\n",
       "      <th>Total_Amount</th>\n",
       "      <th>Date</th>\n",
       "    </tr>\n",
       "  </thead>\n",
       "  <tbody>\n",
       "    <tr>\n",
       "      <th>0</th>\n",
       "      <td>False</td>\n",
       "      <td>False</td>\n",
       "      <td>False</td>\n",
       "      <td>False</td>\n",
       "      <td>False</td>\n",
       "      <td>True</td>\n",
       "      <td>False</td>\n",
       "    </tr>\n",
       "    <tr>\n",
       "      <th>1</th>\n",
       "      <td>False</td>\n",
       "      <td>False</td>\n",
       "      <td>False</td>\n",
       "      <td>False</td>\n",
       "      <td>False</td>\n",
       "      <td>True</td>\n",
       "      <td>False</td>\n",
       "    </tr>\n",
       "    <tr>\n",
       "      <th>2</th>\n",
       "      <td>False</td>\n",
       "      <td>False</td>\n",
       "      <td>False</td>\n",
       "      <td>False</td>\n",
       "      <td>False</td>\n",
       "      <td>True</td>\n",
       "      <td>False</td>\n",
       "    </tr>\n",
       "    <tr>\n",
       "      <th>3</th>\n",
       "      <td>False</td>\n",
       "      <td>False</td>\n",
       "      <td>False</td>\n",
       "      <td>False</td>\n",
       "      <td>False</td>\n",
       "      <td>True</td>\n",
       "      <td>False</td>\n",
       "    </tr>\n",
       "    <tr>\n",
       "      <th>4</th>\n",
       "      <td>False</td>\n",
       "      <td>False</td>\n",
       "      <td>False</td>\n",
       "      <td>False</td>\n",
       "      <td>False</td>\n",
       "      <td>True</td>\n",
       "      <td>False</td>\n",
       "    </tr>\n",
       "    <tr>\n",
       "      <th>5</th>\n",
       "      <td>False</td>\n",
       "      <td>False</td>\n",
       "      <td>False</td>\n",
       "      <td>False</td>\n",
       "      <td>False</td>\n",
       "      <td>True</td>\n",
       "      <td>False</td>\n",
       "    </tr>\n",
       "    <tr>\n",
       "      <th>6</th>\n",
       "      <td>False</td>\n",
       "      <td>False</td>\n",
       "      <td>False</td>\n",
       "      <td>False</td>\n",
       "      <td>False</td>\n",
       "      <td>True</td>\n",
       "      <td>False</td>\n",
       "    </tr>\n",
       "    <tr>\n",
       "      <th>7</th>\n",
       "      <td>False</td>\n",
       "      <td>False</td>\n",
       "      <td>False</td>\n",
       "      <td>False</td>\n",
       "      <td>False</td>\n",
       "      <td>True</td>\n",
       "      <td>False</td>\n",
       "    </tr>\n",
       "    <tr>\n",
       "      <th>8</th>\n",
       "      <td>False</td>\n",
       "      <td>False</td>\n",
       "      <td>False</td>\n",
       "      <td>False</td>\n",
       "      <td>False</td>\n",
       "      <td>True</td>\n",
       "      <td>False</td>\n",
       "    </tr>\n",
       "    <tr>\n",
       "      <th>9</th>\n",
       "      <td>False</td>\n",
       "      <td>False</td>\n",
       "      <td>False</td>\n",
       "      <td>False</td>\n",
       "      <td>False</td>\n",
       "      <td>True</td>\n",
       "      <td>False</td>\n",
       "    </tr>\n",
       "  </tbody>\n",
       "</table>\n",
       "</div>"
      ],
      "text/plain": [
       "   Order_ID  Product  Category  Quantity  Price  Total_Amount   Date\n",
       "0     False    False     False     False  False          True  False\n",
       "1     False    False     False     False  False          True  False\n",
       "2     False    False     False     False  False          True  False\n",
       "3     False    False     False     False  False          True  False\n",
       "4     False    False     False     False  False          True  False\n",
       "5     False    False     False     False  False          True  False\n",
       "6     False    False     False     False  False          True  False\n",
       "7     False    False     False     False  False          True  False\n",
       "8     False    False     False     False  False          True  False\n",
       "9     False    False     False     False  False          True  False"
      ]
     },
     "execution_count": 32,
     "metadata": {},
     "output_type": "execute_result"
    }
   ],
   "source": [
    "df.isna()"
   ]
  },
  {
   "cell_type": "code",
   "execution_count": 33,
   "id": "5a1210f8-a673-4b4d-82bd-7e7fe90fc0ac",
   "metadata": {},
   "outputs": [
    {
     "data": {
      "text/html": [
       "<div>\n",
       "<style scoped>\n",
       "    .dataframe tbody tr th:only-of-type {\n",
       "        vertical-align: middle;\n",
       "    }\n",
       "\n",
       "    .dataframe tbody tr th {\n",
       "        vertical-align: top;\n",
       "    }\n",
       "\n",
       "    .dataframe thead th {\n",
       "        text-align: right;\n",
       "    }\n",
       "</style>\n",
       "<table border=\"1\" class=\"dataframe\">\n",
       "  <thead>\n",
       "    <tr style=\"text-align: right;\">\n",
       "      <th></th>\n",
       "      <th>Order_ID</th>\n",
       "      <th>Product</th>\n",
       "      <th>Category</th>\n",
       "      <th>Quantity</th>\n",
       "      <th>Price</th>\n",
       "      <th>Total_Amount</th>\n",
       "      <th>Date</th>\n",
       "    </tr>\n",
       "  </thead>\n",
       "  <tbody>\n",
       "    <tr>\n",
       "      <th>0</th>\n",
       "      <td>1001</td>\n",
       "      <td>Laptop</td>\n",
       "      <td>Electronics</td>\n",
       "      <td>2</td>\n",
       "      <td>700</td>\n",
       "      <td>0.0</td>\n",
       "      <td>2024-02-01</td>\n",
       "    </tr>\n",
       "    <tr>\n",
       "      <th>1</th>\n",
       "      <td>1002</td>\n",
       "      <td>Mobile Phone</td>\n",
       "      <td>Electronics</td>\n",
       "      <td>1</td>\n",
       "      <td>500</td>\n",
       "      <td>0.0</td>\n",
       "      <td>2024-02-02</td>\n",
       "    </tr>\n",
       "    <tr>\n",
       "      <th>2</th>\n",
       "      <td>1003</td>\n",
       "      <td>Headphones</td>\n",
       "      <td>Accessories</td>\n",
       "      <td>3</td>\n",
       "      <td>50</td>\n",
       "      <td>0.0</td>\n",
       "      <td>2024-02-03</td>\n",
       "    </tr>\n",
       "    <tr>\n",
       "      <th>3</th>\n",
       "      <td>1004</td>\n",
       "      <td>Mouse</td>\n",
       "      <td>Accessories</td>\n",
       "      <td>2</td>\n",
       "      <td>20</td>\n",
       "      <td>0.0</td>\n",
       "      <td>2024-02-04</td>\n",
       "    </tr>\n",
       "    <tr>\n",
       "      <th>4</th>\n",
       "      <td>1005</td>\n",
       "      <td>Keyboard</td>\n",
       "      <td>Accessories</td>\n",
       "      <td>1</td>\n",
       "      <td>30</td>\n",
       "      <td>0.0</td>\n",
       "      <td>2024-02-05</td>\n",
       "    </tr>\n",
       "    <tr>\n",
       "      <th>5</th>\n",
       "      <td>1006</td>\n",
       "      <td>T-shirt</td>\n",
       "      <td>Clothing</td>\n",
       "      <td>4</td>\n",
       "      <td>15</td>\n",
       "      <td>0.0</td>\n",
       "      <td>2024-02-06</td>\n",
       "    </tr>\n",
       "    <tr>\n",
       "      <th>6</th>\n",
       "      <td>1007</td>\n",
       "      <td>Jacket</td>\n",
       "      <td>Clothing</td>\n",
       "      <td>1</td>\n",
       "      <td>60</td>\n",
       "      <td>0.0</td>\n",
       "      <td>2024-02-07</td>\n",
       "    </tr>\n",
       "    <tr>\n",
       "      <th>7</th>\n",
       "      <td>1008</td>\n",
       "      <td>Refrigerator</td>\n",
       "      <td>Electronics</td>\n",
       "      <td>1</td>\n",
       "      <td>900</td>\n",
       "      <td>0.0</td>\n",
       "      <td>2024-02-08</td>\n",
       "    </tr>\n",
       "    <tr>\n",
       "      <th>8</th>\n",
       "      <td>1009</td>\n",
       "      <td>TV</td>\n",
       "      <td>Electronics</td>\n",
       "      <td>2</td>\n",
       "      <td>1100</td>\n",
       "      <td>0.0</td>\n",
       "      <td>2024-02-09</td>\n",
       "    </tr>\n",
       "    <tr>\n",
       "      <th>9</th>\n",
       "      <td>1010</td>\n",
       "      <td>Shoes</td>\n",
       "      <td>Clothing</td>\n",
       "      <td>2</td>\n",
       "      <td>40</td>\n",
       "      <td>0.0</td>\n",
       "      <td>2024-02-10</td>\n",
       "    </tr>\n",
       "  </tbody>\n",
       "</table>\n",
       "</div>"
      ],
      "text/plain": [
       "   Order_ID       Product     Category  Quantity  Price  Total_Amount        Date\n",
       "0      1001        Laptop  Electronics         2    700           0.0  2024-02-01\n",
       "1      1002  Mobile Phone  Electronics         1    500           0.0  2024-02-02\n",
       "2      1003    Headphones  Accessories         3     50           0.0  2024-02-03\n",
       "3      1004         Mouse  Accessories         2     20           0.0  2024-02-04\n",
       "4      1005      Keyboard  Accessories         1     30           0.0  2024-02-05\n",
       "5      1006       T-shirt     Clothing         4     15           0.0  2024-02-06\n",
       "6      1007        Jacket     Clothing         1     60           0.0  2024-02-07\n",
       "7      1008  Refrigerator  Electronics         1    900           0.0  2024-02-08\n",
       "8      1009            TV  Electronics         2   1100           0.0  2024-02-09\n",
       "9      1010         Shoes     Clothing         2     40           0.0  2024-02-10"
      ]
     },
     "execution_count": 33,
     "metadata": {},
     "output_type": "execute_result"
    }
   ],
   "source": [
    "df.fillna(0) ##handling missing values"
   ]
  },
  {
   "cell_type": "code",
   "execution_count": 34,
   "id": "4aa506d7-b4c0-4e43-8e8c-7f0c689ffcfe",
   "metadata": {},
   "outputs": [
    {
     "data": {
      "text/plain": [
       "0    False\n",
       "1    False\n",
       "2    False\n",
       "3    False\n",
       "4    False\n",
       "5    False\n",
       "6    False\n",
       "7    False\n",
       "8    False\n",
       "9    False\n",
       "dtype: bool"
      ]
     },
     "execution_count": 34,
     "metadata": {},
     "output_type": "execute_result"
    }
   ],
   "source": [
    "df.duplicated()"
   ]
  },
  {
   "cell_type": "code",
   "execution_count": 35,
   "id": "73c39235-2108-4273-a9ef-4f290433a591",
   "metadata": {},
   "outputs": [
    {
     "data": {
      "text/plain": [
       "Order_ID          int64\n",
       "Product          object\n",
       "Category         object\n",
       "Quantity          int64\n",
       "Price             int64\n",
       "Total_Amount    float64\n",
       "Date             object\n",
       "dtype: object"
      ]
     },
     "execution_count": 35,
     "metadata": {},
     "output_type": "execute_result"
    }
   ],
   "source": [
    "df.dtypes"
   ]
  },
  {
   "cell_type": "code",
   "execution_count": 38,
   "id": "9833a769-c815-424d-9fc6-92c0a9dd3031",
   "metadata": {},
   "outputs": [],
   "source": [
    "df['Date']=pd.to_datetime(df['Date'])"
   ]
  },
  {
   "cell_type": "code",
   "execution_count": 39,
   "id": "7c3addfb-7ee9-48c0-bfda-81a3bf368bb9",
   "metadata": {},
   "outputs": [
    {
     "data": {
      "text/plain": [
       "Order_ID                 int64\n",
       "Product                 object\n",
       "Category                object\n",
       "Quantity                 int64\n",
       "Price                    int64\n",
       "Total_Amount           float64\n",
       "Date            datetime64[ns]\n",
       "dtype: object"
      ]
     },
     "execution_count": 39,
     "metadata": {},
     "output_type": "execute_result"
    }
   ],
   "source": [
    "df.dtypes"
   ]
  },
  {
   "cell_type": "code",
   "execution_count": 40,
   "id": "2bc1ee1a-f9c7-425e-b447-10cde7f08621",
   "metadata": {},
   "outputs": [
    {
     "data": {
      "text/plain": [
       "str"
      ]
     },
     "execution_count": 40,
     "metadata": {},
     "output_type": "execute_result"
    }
   ],
   "source": [
    "type(\"hello world\")"
   ]
  },
  {
   "cell_type": "code",
   "execution_count": 54,
   "id": "7972ddb6-fc9a-4f01-a1cf-1b3f6ac8d73f",
   "metadata": {},
   "outputs": [
    {
     "data": {
      "text/plain": [
       "Order_ID                 int64\n",
       "Product                 object\n",
       "Category                object\n",
       "Quantity                 int64\n",
       "Price                    int64\n",
       "Total_Amount           float64\n",
       "Date            datetime64[ns]\n",
       "dtype: object"
      ]
     },
     "execution_count": 54,
     "metadata": {},
     "output_type": "execute_result"
    }
   ],
   "source": [
    "df['Quantity']= df['Quantity'].astype(int) # convert to int\n",
    "df.dtypes\n",
    "#for string,list,dictionary,tuple it is taking object data type only so no need to convert"
   ]
  },
  {
   "cell_type": "code",
   "execution_count": null,
   "id": "b227a9d1-1b98-4de1-a1b0-5c34332e6403",
   "metadata": {},
   "outputs": [],
   "source": []
  }
 ],
 "metadata": {
  "kernelspec": {
   "display_name": "Python 3 (ipykernel)",
   "language": "python",
   "name": "python3"
  },
  "language_info": {
   "codemirror_mode": {
    "name": "ipython",
    "version": 3
   },
   "file_extension": ".py",
   "mimetype": "text/x-python",
   "name": "python",
   "nbconvert_exporter": "python",
   "pygments_lexer": "ipython3",
   "version": "3.11.9"
  }
 },
 "nbformat": 4,
 "nbformat_minor": 5
}
