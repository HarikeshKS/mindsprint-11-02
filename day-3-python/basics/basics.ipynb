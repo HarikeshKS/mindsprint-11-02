{
 "cells": [
  {
   "cell_type": "code",
   "execution_count": 2,
   "id": "439bca77-3215-4e50-aab8-4302f61623bc",
   "metadata": {},
   "outputs": [
    {
     "name": "stdout",
     "output_type": "stream",
     "text": [
      "Hello World\n"
     ]
    }
   ],
   "source": [
    "## Simple Print Method\n",
    "print(\"Hello World\")"
   ]
  },
  {
   "cell_type": "code",
   "execution_count": 8,
   "id": "fac189e5-4415-426d-ac68-9fcd3887a8e1",
   "metadata": {},
   "outputs": [
    {
     "name": "stdout",
     "output_type": "stream",
     "text": [
      "Number1:  10\n",
      "Number2 20.89\n",
      "Name:  Mind Sprint\n",
      "<class 'int'>\n",
      "<class 'float'>\n",
      "<class 'str'>\n"
     ]
    }
   ],
   "source": [
    "# Variables\n",
    "num1=10 #number\n",
    "num2=20.89 #number\n",
    "name=\"Mind Sprint\" #String\n",
    "\n",
    "print(\"Number1: \",num1)\n",
    "print(f\"Number2 {num2}\")\n",
    "print(\"Name: \",name)\n",
    "## data type\n",
    "print(type(num1))\n",
    "print(type(num2))\n",
    "print(type(name))"
   ]
  },
  {
   "cell_type": "code",
   "execution_count": 6,
   "id": "56168c99-a965-4fba-80fa-92ff55961f01",
   "metadata": {},
   "outputs": [
    {
     "name": "stdout",
     "output_type": "stream",
     "text": [
      "test1   test2   test3\n",
      "temp   temp   temp\n"
     ]
    }
   ],
   "source": [
    "## Value Assignment to Variables\n",
    "x,y,z= \"test1\",\"test2\",\"test3\"\n",
    "print(x,\" \",y,\" \",z)\n",
    "# Assign same value to multiple variables\n",
    "p=q=r=\"temp\"\n",
    "print(p,\" \",r,\" \",q)"
   ]
  },
  {
   "cell_type": "code",
   "execution_count": 11,
   "id": "4a7efd72-814b-48e8-b985-bd009c92a8d6",
   "metadata": {},
   "outputs": [
    {
     "name": "stdin",
     "output_type": "stream",
     "text": [
      "Enter first Number 1\n",
      "Enter second Number 2\n"
     ]
    },
    {
     "name": "stdout",
     "output_type": "stream",
     "text": [
      "Addition:  3\n"
     ]
    }
   ],
   "source": [
    "## Taking input from user\n",
    "num1 = input(\"Enter first Number\")\n",
    "num2 = input(\"Enter second Number\")\n",
    "\n",
    "n1= int(num1) # typecast in int\n",
    "n2= int(num2) # typecast in int\n",
    "print(\"Addition: \", n1+n2)"
   ]
  },
  {
   "cell_type": "code",
   "execution_count": 16,
   "id": "51cb7081-f119-406b-ac62-7faed05d0c08",
   "metadata": {},
   "outputs": [
    {
     "name": "stdout",
     "output_type": "stream",
     "text": [
      "initial value: 10\n",
      "After increment:  15\n",
      "After Decrement:  12\n",
      "After multiplication:  24\n",
      "After Exponent:  576\n",
      "After floor Division:  288\n"
     ]
    }
   ],
   "source": [
    "num=10\n",
    "print('initial value:',num)\n",
    "num+=5\n",
    "print('After increment: ',num)\n",
    "num-=3\n",
    "print('After Decrement: ',num)\n",
    "num*=2\n",
    "print('After multiplication: ',num)\n",
    "num**=2\n",
    "print('After Exponent: ',num)\n",
    "num//=2\n",
    "print('After floor Division: ',num)"
   ]
  },
  {
   "cell_type": "code",
   "execution_count": 18,
   "id": "d9c681d7-716b-4aab-b338-de9b57c91b5b",
   "metadata": {},
   "outputs": [
    {
     "name": "stdin",
     "output_type": "stream",
     "text": [
      "enter your email admin@gmail.com\n",
      "enter your password admin@123\n"
     ]
    },
    {
     "name": "stdout",
     "output_type": "stream",
     "text": [
      "True\n"
     ]
    }
   ],
   "source": [
    "email=input('enter your email')\n",
    "password=input('enter your password')\n",
    "print(email=='admin@gmail.com' and password=='admin@123')"
   ]
  },
  {
   "cell_type": "code",
   "execution_count": 24,
   "id": "9ee311c0-9cb1-4ef4-9240-36386e1f7efe",
   "metadata": {},
   "outputs": [
    {
     "name": "stdin",
     "output_type": "stream",
     "text": [
      "total mrp 100\n"
     ]
    },
    {
     "name": "stdout",
     "output_type": "stream",
     "text": [
      "Total Discount given  0 %\n",
      "You saved  0.0\n",
      "final amount  100.0\n"
     ]
    }
   ],
   "source": [
    "mrp=int(input('total mrp'))\n",
    "discount=0\n",
    "if mrp>=500:\n",
    "    discount=20\n",
    "elif mrp>=200 and mrp<500:\n",
    "    discount=10\n",
    "discount_price= mrp*discount/100\n",
    "final_amount=mrp-discount_price\n",
    "print('Total Discount given ',discount,'%')\n",
    "print('You saved ',discount_price)\n",
    "print('final amount ',final_amount)"
   ]
  },
  {
   "cell_type": "code",
   "execution_count": 25,
   "id": "fb9274bb-21fb-449d-8dca-aa89bd62b23d",
   "metadata": {},
   "outputs": [
    {
     "name": "stdout",
     "output_type": "stream",
     "text": [
      "Hello World\n"
     ]
    }
   ],
   "source": [
    "def hello():\n",
    "    print('Hello World')\n",
    "hello()"
   ]
  },
  {
   "cell_type": "code",
   "execution_count": 26,
   "id": "747a84cb-e28e-4c05-b4c2-adfe22ddd59c",
   "metadata": {},
   "outputs": [
    {
     "name": "stdout",
     "output_type": "stream",
     "text": [
      "Good Noon:  sonam soni\n"
     ]
    }
   ],
   "source": [
    "def greet(name):\n",
    "    print('Good Noon: ',name)\n",
    "greet('sonam soni')"
   ]
  },
  {
   "cell_type": "code",
   "execution_count": 27,
   "id": "a7587cb5-7966-4f24-a64e-fd1f60dd3585",
   "metadata": {},
   "outputs": [
    {
     "name": "stdin",
     "output_type": "stream",
     "text": [
      "enter username admin\n",
      "enter password admin123\n"
     ]
    },
    {
     "name": "stdout",
     "output_type": "stream",
     "text": [
      "Logged in...\n",
      "Welcome Admin\n"
     ]
    }
   ],
   "source": [
    "def login(username,password):\n",
    "    if username=='admin' and password=='admin123':\n",
    "        print('Logged in...')\n",
    "        print('Welcome Admin')\n",
    "    else:\n",
    "        print('Invalid credentials')\n",
    "\n",
    "username=input('enter username')\n",
    "password=input('enter password')\n",
    "login(username,password)"
   ]
  },
  {
   "cell_type": "code",
   "execution_count": 50,
   "id": "2b2d4b99-0822-4d08-96d1-8d8418c12fc0",
   "metadata": {},
   "outputs": [
    {
     "name": "stdout",
     "output_type": "stream",
     "text": [
      "[10, 20, 30, 40, 50]\n",
      "40\n",
      "[10, 20, 30, 40, 50, 60]\n",
      "[10, 20, 25, 30, 40, 50, 60]\n",
      "60 removed\n",
      "6\n",
      "Minimun Value 10\n",
      "Maximum Value 50\n",
      "Sum Value 175\n",
      "25 removed\n",
      "[10, 20, 30, 40, 50]\n",
      "True\n",
      "[20, 30]\n"
     ]
    }
   ],
   "source": [
    "# List\n",
    "mylist=[10,20,30,40,50]\n",
    "print(mylist)\n",
    "print(mylist[3]) ## access based on index\n",
    "mylist.append(60) ## append add element at last index\n",
    "print(mylist)\n",
    "#insert element at some index\n",
    "mylist.insert(2,25)\n",
    "print(mylist)\n",
    "## Data Removal\n",
    "data=mylist.pop() ## its removing last element which you save in some variable\n",
    "print(data, \"removed\") \n",
    "print(len(mylist)) # checking length\n",
    "print('Minimun Value',min(mylist))\n",
    "print('Maximum Value',max(mylist))\n",
    "print('Sum Value',sum(mylist))\n",
    "\n",
    "mylist.remove(25)\n",
    "print('25 removed')\n",
    "print(mylist)\n",
    "\n",
    "## Check membership\n",
    "print(20 in mylist)\n",
    "print(mylist[1:3])"
   ]
  },
  {
   "cell_type": "code",
   "execution_count": 52,
   "id": "1416341c-faa8-4693-8df7-c931efd5f182",
   "metadata": {},
   "outputs": [
    {
     "name": "stdout",
     "output_type": "stream",
     "text": [
      "[10, 30, 40, 50, 1, 2, 3, 4]\n",
      "[10, 30, 40, 50, 35, 2, 3, 4]\n",
      "[10, 30, 40, 50, 2, 3, 4]\n"
     ]
    }
   ],
   "source": [
    "mylist.extend([1,2,3,4]) ## adding element at last\n",
    "print(mylist)\n",
    "\n",
    "mylist[4]=35 # updating element\n",
    "print(mylist)\n",
    "\n",
    "mylist.pop(4)\n",
    "print(mylist)"
   ]
  },
  {
   "cell_type": "code",
   "execution_count": 53,
   "id": "bdbf2e55-4cbc-4e01-a973-e68865825177",
   "metadata": {},
   "outputs": [
    {
     "name": "stdout",
     "output_type": "stream",
     "text": [
      "[]\n"
     ]
    }
   ],
   "source": [
    "## delete using index number\n",
    "# del mylist[1]\n",
    "# print(mylist)\n",
    "mylist.clear()\n",
    "print(mylist)"
   ]
  },
  {
   "cell_type": "code",
   "execution_count": 55,
   "id": "31adfeaa-e1f2-4a20-a5a1-47f317e218cf",
   "metadata": {},
   "outputs": [
    {
     "name": "stdout",
     "output_type": "stream",
     "text": [
      "1\n",
      "2\n",
      "3\n",
      "4\n",
      "5\n",
      "6\n",
      "7\n",
      "8\n",
      "9\n",
      "1\n",
      "2\n",
      "3\n",
      "4\n",
      "5\n",
      "6\n",
      "7\n",
      "8\n",
      "9\n"
     ]
    }
   ],
   "source": [
    "mydata=[1,2,3,4,5,6,7,8,9]\n",
    "print(\"using for in loop\")\n",
    "for num in mydata:\n",
    "    print(num)\n",
    "print(\"using while loop\")\n",
    "i=0\n",
    "while i<len(mydata):\n",
    "    print(mydata[i])\n",
    "    i+=1"
   ]
  },
  {
   "cell_type": "code",
   "execution_count": 56,
   "id": "4e59c341-a518-4090-967e-2ed29059a6ed",
   "metadata": {},
   "outputs": [
    {
     "name": "stdout",
     "output_type": "stream",
     "text": [
      "[9, 8, 7, 6, 5, 4, 3, 2, 1]\n"
     ]
    }
   ],
   "source": [
    "mydata.sort(reverse=True)\n",
    "print(mydata)"
   ]
  },
  {
   "cell_type": "code",
   "execution_count": 57,
   "id": "18e50832-e68a-4c2b-b9f2-8357ce386046",
   "metadata": {},
   "outputs": [
    {
     "name": "stdout",
     "output_type": "stream",
     "text": [
      "[1, 2, 3, 4, 5, 6, 7, 8, 9]\n"
     ]
    }
   ],
   "source": [
    "mydata.reverse()\n",
    "print(mydata)"
   ]
  },
  {
   "cell_type": "code",
   "execution_count": 68,
   "id": "323ad3e5-db58-4544-8de1-449a879b6c5f",
   "metadata": {},
   "outputs": [
    {
     "name": "stdout",
     "output_type": "stream",
     "text": [
      "('alex', 'bob', 'catty', 'devid')\n",
      "('test', True, 78, 3.14, [2, 3, 4])\n",
      "()\n",
      "('hell',)\n",
      "<class 'tuple'>\n",
      "Access values bob\n",
      "Access values devid\n",
      "Access values ('alex', 'bob', 'catty')\n",
      "['alex', 'bob', 'catty', 'devid']\n",
      "('alex', 'bob', 'catty', 'devid', 'ella')\n"
     ]
    }
   ],
   "source": [
    "#creating tuple\n",
    "names=('alex','bob','catty','devid')\n",
    "print(names)\n",
    "\n",
    "mixed=('test',True,78,3.14,[2,3,4])\n",
    "print(mixed)\n",
    "\n",
    "#Empty tuple\n",
    "empty_tup=()\n",
    "print(empty_tup)\n",
    "#tupe with single value\n",
    "data = ('hell',) # , is mandatory\n",
    "print(data)\n",
    "print(type(data))\n",
    "\n",
    "print('Access values',names[1])\n",
    "print('Access values',names[-1])\n",
    "print('Access values',names[0:3])\n",
    "names= list(names)\n",
    "print(names)\n",
    "names.append('ella')\n",
    "names= tuple(names)\n",
    "print(names)"
   ]
  },
  {
   "cell_type": "code",
   "execution_count": 70,
   "id": "01e66d9c-65f7-4523-8f44-176699e6a1dc",
   "metadata": {},
   "outputs": [
    {
     "name": "stdout",
     "output_type": "stream",
     "text": [
      "(1, 2, 3, 4, 5, 6)\n",
      "('temp', 'temp', 'temp', 'temp')\n"
     ]
    }
   ],
   "source": [
    "tuple1=(1,2,3)\n",
    "tuple2=(4,5,6)\n",
    "concat= tuple1+ tuple2\n",
    "print(concat)\n",
    "\n",
    "new_tuple=('temp',)*4 # repetation of tuple\n",
    "print(new_tuple)"
   ]
  },
  {
   "cell_type": "code",
   "execution_count": 73,
   "id": "7fb9e1db-e3f8-4b9c-96db-0b952a251126",
   "metadata": {},
   "outputs": [
    {
     "name": "stdout",
     "output_type": "stream",
     "text": [
      "2\n",
      "2\n"
     ]
    }
   ],
   "source": [
    "list= [1,2,3,4,2,5,3,6,8]\n",
    "print(list.count(3)) # checking howmany 3's in the list\n",
    "#index of\n",
    "print(list.index(3)) # first occurance of 3"
   ]
  },
  {
   "cell_type": "code",
   "execution_count": 89,
   "id": "5f3e1fb0-7d2b-418c-99b3-29da1933340e",
   "metadata": {},
   "outputs": [
    {
     "name": "stdout",
     "output_type": "stream",
     "text": [
      "{'eid': 1001, 'name': 'John Doe', 'department': 'I.T.', 'salary': 45678}\n",
      "Employee Id 1001\n",
      "Employee Name: John Doe\n"
     ]
    }
   ],
   "source": [
    "## Employee Dictionary\n",
    "employee={\n",
    "    \"eid\":1001,\n",
    "    \"name\":\"John Doe\",\n",
    "    \"department\":\"I.T.\",\n",
    "    \"salary\":45678\n",
    "}\n",
    "\n",
    "print(employee)\n",
    "print('Employee Id',employee['eid'])\n",
    "print('Employee Name:' , employee.get('name'))"
   ]
  },
  {
   "cell_type": "code",
   "execution_count": 90,
   "id": "b990fd10-8e43-4382-b404-e3f8737e4826",
   "metadata": {},
   "outputs": [
    {
     "name": "stdout",
     "output_type": "stream",
     "text": [
      "Manager:  None\n",
      "Manager:  Sonam-Soni\n"
     ]
    }
   ],
   "source": [
    "# print('Manager: ', employee['manager']) # throws an error if key not found\n",
    "print('Manager: ', employee.get('manager')) # will give none if not found\n",
    "print('Manager: ',employee.get('manager','Sonam-Soni'))"
   ]
  },
  {
   "cell_type": "code",
   "execution_count": 91,
   "id": "38cf0ed8-6947-46d0-8f61-6f6bdff585bf",
   "metadata": {},
   "outputs": [
    {
     "name": "stdout",
     "output_type": "stream",
     "text": [
      "{'eid': 1001, 'name': 'John Doe', 'department': 'I.T.', 'salary': 98888, 'manager': 'Shreenu'}\n"
     ]
    }
   ],
   "source": [
    "# update manager\n",
    "employee['manager']=\"Shreenu\" \n",
    "employee['salary']=98888\n",
    "print(employee)"
   ]
  },
  {
   "cell_type": "code",
   "execution_count": 92,
   "id": "b493c312-d471-4aef-88d4-345b00bcfd10",
   "metadata": {},
   "outputs": [
    {
     "name": "stdout",
     "output_type": "stream",
     "text": [
      "('manager', 'Shreenu') removed\n",
      "{'eid': 1001, 'name': 'John Doe', 'department': 'I.T.', 'salary': 98888}\n"
     ]
    }
   ],
   "source": [
    "data=employee.popitem() ## remove last pair\n",
    "print(data, 'removed')\n",
    "print(employee)"
   ]
  },
  {
   "cell_type": "code",
   "execution_count": 93,
   "id": "64b33205-7164-4410-886f-43c6fa820e7c",
   "metadata": {},
   "outputs": [
    {
     "name": "stdout",
     "output_type": "stream",
     "text": [
      "98888 removed\n",
      "{'eid': 1001, 'name': 'John Doe', 'department': 'I.T.'}\n"
     ]
    }
   ],
   "source": [
    "data=employee.pop('salary')\n",
    "print(data,'removed')\n",
    "print(employee)"
   ]
  },
  {
   "cell_type": "code",
   "execution_count": 94,
   "id": "2ea22a9d-35a2-4319-b5b7-43270c904e7a",
   "metadata": {},
   "outputs": [
    {
     "name": "stdout",
     "output_type": "stream",
     "text": [
      "{'eid': 1001, 'department': 'I.T.'}\n"
     ]
    }
   ],
   "source": [
    "del employee['name']\n",
    "print(employee)"
   ]
  },
  {
   "cell_type": "code",
   "execution_count": 96,
   "id": "9511a9f1-cdd2-4746-b4f3-6f2c91a77b2e",
   "metadata": {},
   "outputs": [
    {
     "name": "stdout",
     "output_type": "stream",
     "text": [
      "id :  1\n",
      "name :  alex\n",
      "email :  alex@gmail.com\n",
      "address :  us\n"
     ]
    }
   ],
   "source": [
    "student={\n",
    "    \"id\":1,\n",
    "    \"name\":\"alex\",\n",
    "    \"email\":\"alex@gmail.com\",\n",
    "    \"address\":\"us\"\n",
    "}\n",
    "for key in student:\n",
    "    print(key,\": \",student[key])"
   ]
  },
  {
   "cell_type": "code",
   "execution_count": 97,
   "id": "76343132-ecb2-4fc5-baba-3f9e1a80e5e9",
   "metadata": {},
   "outputs": [
    {
     "name": "stdout",
     "output_type": "stream",
     "text": [
      "dict_items([('id', 1), ('name', 'alex'), ('email', 'alex@gmail.com'), ('address', 'us')])\n"
     ]
    }
   ],
   "source": [
    "print(student.items())"
   ]
  },
  {
   "cell_type": "code",
   "execution_count": 99,
   "id": "76af7ba3-23ae-4371-bc7f-1dd7016ca2dc",
   "metadata": {},
   "outputs": [
    {
     "name": "stdout",
     "output_type": "stream",
     "text": [
      "id :  1\n",
      "name :  alex\n",
      "email :  alex@gmail.com\n",
      "address :  us\n"
     ]
    }
   ],
   "source": [
    "for key,value in student.items():\n",
    "    print(key,\": \",value)"
   ]
  },
  {
   "cell_type": "code",
   "execution_count": 101,
   "id": "9f097282-f66d-407d-a724-ebd67d53e882",
   "metadata": {},
   "outputs": [
    {
     "name": "stdout",
     "output_type": "stream",
     "text": [
      "address is present in student object\n"
     ]
    }
   ],
   "source": [
    "if \"address\" in student:\n",
    "    print(\"address is present in student object\")"
   ]
  },
  {
   "cell_type": "code",
   "execution_count": 109,
   "id": "28851e3a-468f-43c1-b284-4dccb981620d",
   "metadata": {},
   "outputs": [
    {
     "name": "stdout",
     "output_type": "stream",
     "text": [
      "{403, 404, 500, 200, 302}\n"
     ]
    }
   ],
   "source": [
    "## Set \n",
    "myset = {404,200,500,302,403,302}\n",
    "print(myset) ## no order maintained and no duplicates allowed"
   ]
  },
  {
   "cell_type": "code",
   "execution_count": 111,
   "id": "88d1d736-2b94-47da-808d-ba3fc4026c00",
   "metadata": {},
   "outputs": [
    {
     "name": "stdout",
     "output_type": "stream",
     "text": [
      "403\n",
      "404\n",
      "500\n",
      "200\n",
      "302\n"
     ]
    }
   ],
   "source": [
    "#iteration\n",
    "for num in myset:\n",
    "    print(num)"
   ]
  },
  {
   "cell_type": "code",
   "execution_count": 125,
   "id": "15a075e3-d7a3-4c13-a275-6a0bf613896c",
   "metadata": {},
   "outputs": [
    {
     "name": "stdout",
     "output_type": "stream",
     "text": [
      "{402, 404, 500, 501, 200, 302}\n",
      "{402, 404, 500, 501, 200, 302, 303}\n",
      "{402, 404, 500, 501, 200, 302}\n"
     ]
    }
   ],
   "source": [
    "##Adding an element\n",
    "myset.add(501)\n",
    "print(myset)\n",
    "myset.update([303,402])#pass list to add multiple elements\n",
    "print(myset)\n",
    "## Removal\n",
    "myset.remove(303)\n",
    "print(myset)"
   ]
  },
  {
   "cell_type": "code",
   "execution_count": 126,
   "id": "82d56c32-7728-447c-a1ad-ae2997b8577d",
   "metadata": {},
   "outputs": [
    {
     "name": "stdout",
     "output_type": "stream",
     "text": [
      "{402, 404, 500, 501, 200, 302}\n",
      "{402, 500, 501, 200, 302}\n"
     ]
    }
   ],
   "source": [
    "myset.discard(303) #if not found then no error\n",
    "print(myset)\n",
    "myset.pop()\n",
    "print(myset)"
   ]
  },
  {
   "cell_type": "code",
   "execution_count": 127,
   "id": "b6a8c4df-c6fd-4f9a-a93a-45e996106286",
   "metadata": {},
   "outputs": [
    {
     "name": "stdout",
     "output_type": "stream",
     "text": [
      "set()\n"
     ]
    }
   ],
   "source": [
    "myset.clear()\n",
    "print(myset)"
   ]
  },
  {
   "cell_type": "code",
   "execution_count": 128,
   "id": "f7e23320-fa6e-4a1f-9d3b-29ac73582903",
   "metadata": {},
   "outputs": [
    {
     "name": "stdout",
     "output_type": "stream",
     "text": [
      "set is empty\n"
     ]
    }
   ],
   "source": [
    "if len(myset)>0:\n",
    "    myset.pop()\n",
    "else:\n",
    "    print('set is empty')"
   ]
  },
  {
   "cell_type": "code",
   "execution_count": 129,
   "id": "e243243d-193f-4567-9ac8-fb4061a38baa",
   "metadata": {},
   "outputs": [
    {
     "name": "stdout",
     "output_type": "stream",
     "text": [
      "{1, 2, 3, 4, 5, 6, 7}\n"
     ]
    }
   ],
   "source": [
    "myset.update([1,2,3,4,5,6,7])\n",
    "print(myset)"
   ]
  },
  {
   "cell_type": "code",
   "execution_count": 142,
   "id": "337014d6-f589-4587-ae72-9e5243eb8daf",
   "metadata": {},
   "outputs": [
    {
     "name": "stdout",
     "output_type": "stream",
     "text": [
      "---------------------------------\n",
      "id   1\n",
      "name   alex\n",
      "department   I.T.\n",
      "salary   90000\n",
      "---------------------------------\n",
      "id   2\n",
      "name   bob\n",
      "department   Sales\n",
      "salary   80000\n",
      "---------------------------------\n",
      "id   101\n",
      "name   jack\n",
      "department   finance\n",
      "salary   32000\n",
      "---------------------------------\n",
      "id   1\n",
      "name   alex\n",
      "department   I.T.\n",
      "salary   90000\n",
      "---------------------------------\n",
      "id   2\n",
      "name   bob\n",
      "department   Sales\n",
      "salary   80000\n",
      "---------------------------------\n",
      "id   101\n",
      "name   jack\n",
      "department   finance\n",
      "salary   42000\n"
     ]
    },
    {
     "ename": "KeyError",
     "evalue": "101",
     "output_type": "error",
     "traceback": [
      "\u001b[1;31m---------------------------------------------------------------------------\u001b[0m",
      "\u001b[1;31mKeyError\u001b[0m                                  Traceback (most recent call last)",
      "Cell \u001b[1;32mIn[142], line 27\u001b[0m\n\u001b[0;32m     25\u001b[0m update_employee(\u001b[38;5;241m101\u001b[39m,\u001b[38;5;241m42000\u001b[39m)\n\u001b[0;32m     26\u001b[0m print_employees(employees)\n\u001b[1;32m---> 27\u001b[0m \u001b[43mremove_employee\u001b[49m\u001b[43m(\u001b[49m\u001b[38;5;241;43m101\u001b[39;49m\u001b[43m)\u001b[49m\n\u001b[0;32m     28\u001b[0m print_employees(employees)\n",
      "Cell \u001b[1;32mIn[142], line 13\u001b[0m, in \u001b[0;36mremove_employee\u001b[1;34m(id)\u001b[0m\n\u001b[0;32m     11\u001b[0m \u001b[38;5;28;01mfor\u001b[39;00m emp \u001b[38;5;129;01min\u001b[39;00m employees:\n\u001b[0;32m     12\u001b[0m     \u001b[38;5;28;01mif\u001b[39;00m employees[emp][\u001b[38;5;124m'\u001b[39m\u001b[38;5;124mid\u001b[39m\u001b[38;5;124m'\u001b[39m]\u001b[38;5;241m==\u001b[39m\u001b[38;5;28mid\u001b[39m:\n\u001b[1;32m---> 13\u001b[0m         \u001b[43memployees\u001b[49m\u001b[38;5;241;43m.\u001b[39;49m\u001b[43mpop\u001b[49m\u001b[43m(\u001b[49m\u001b[38;5;28;43mid\u001b[39;49m\u001b[43m)\u001b[49m\n\u001b[0;32m     14\u001b[0m         \u001b[38;5;28;01mbreak\u001b[39;00m\n",
      "\u001b[1;31mKeyError\u001b[0m: 101"
     ]
    }
   ],
   "source": [
    "employees=dict();\n",
    "def add_employee(id,name,department,salary):\n",
    "    n= len(employees)\n",
    "    employees[f'emp{n+1}']={\"id\":id,\"name\":name,\"department\":department,\"salary\":salary}\n",
    "def update_employee(id,salary):\n",
    "    for emp in employees:\n",
    "        if employees[emp]['id']==id:\n",
    "            employees[emp]['salary']=salary\n",
    "            break\n",
    "def remove_employee(id):\n",
    "    for emp in employees:\n",
    "        if employees[emp]['id']==id:\n",
    "            employees.pop(emp)\n",
    "            break\n",
    "def print_employees(employees):\n",
    "    for emp in employees:\n",
    "        print(\"---------------------------------\")\n",
    "        for key in employees[emp]:\n",
    "            print(key,\" \",employees[emp][key])\n",
    "\n",
    "add_employee(1,\"alex\",\"I.T.\",90000)\n",
    "add_employee(2,\"bob\",\"Sales\",80000)\n",
    "add_employee(101,\"jack\",\"finance\",32000)\n",
    "print_employees(employees)\n",
    "update_employee(101,42000)\n",
    "print_employees(employees)\n",
    "remove_employee(101)\n",
    "print_employees(employees)"
   ]
  },
  {
   "cell_type": "code",
   "execution_count": null,
   "id": "e5437748-cec6-47ec-a578-96ae2e23f3a3",
   "metadata": {},
   "outputs": [],
   "source": []
  }
 ],
 "metadata": {
  "kernelspec": {
   "display_name": "Python 3 (ipykernel)",
   "language": "python",
   "name": "python3"
  },
  "language_info": {
   "codemirror_mode": {
    "name": "ipython",
    "version": 3
   },
   "file_extension": ".py",
   "mimetype": "text/x-python",
   "name": "python",
   "nbconvert_exporter": "python",
   "pygments_lexer": "ipython3",
   "version": "3.11.9"
  }
 },
 "nbformat": 4,
 "nbformat_minor": 5
}
